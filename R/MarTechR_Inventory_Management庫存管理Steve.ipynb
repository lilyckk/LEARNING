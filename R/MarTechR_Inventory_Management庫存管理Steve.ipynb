{
  "nbformat": 4,
  "nbformat_minor": 0,
  "metadata": {
    "colab": {
      "name": "MarTechR-EMBA Inventory Management庫存管理Steve.ipynb",
      "provenance": [],
      "collapsed_sections": [],
      "toc_visible": true
    },
    "kernelspec": {
      "name": "ir",
      "display_name": "R"
    },
    "language_info": {
      "name": "R"
    }
  },
  "cells": [
    {
      "cell_type": "markdown",
      "metadata": {
        "id": "yQHdj13Fi9VP"
      },
      "source": [
        "# MarTechR-EMBA - Inventory Management庫存管理Steve.ipynb"
      ]
    },
    {
      "cell_type": "code",
      "metadata": {
        "id": "FRa_1B0LipRV"
      },
      "source": [
        "install.packages(\"lubridate\")\n",
        "install.packages(\"dplyr\")\n",
        "install.packages(\"readxl\")\n",
        "install.packages(\"magrittr\")\n",
        "install.packages(\"zoo\")\n",
        "install.packages(\"forecast\")\n",
        "install.packages(\"ggplot2\")\n",
        "install.packages(\"rattle\")\n",
        "install.packages(\"rpart\")\n",
        "#install.packages(\"RGtk2\")\n",
        "install.packages(\"ggplot2\")\n",
        "install.packages(\"openxlsx\")\n",
        "library(lubridate)\n",
        "library(dplyr)\n",
        "library(readxl)\n",
        "library(magrittr)\n",
        "library(zoo)\n",
        "library(forecast)\n",
        "library(readr)\n",
        "library(ggplot2)\n",
        "library(rattle)\t\n",
        "library(rpart) \n",
        "#library(RGtk2)\n",
        "library(openxlsx)"
      ],
      "execution_count": null,
      "outputs": []
    },
    {
      "cell_type": "code",
      "metadata": {
        "id": "o7iUnvi-fvyt"
      },
      "source": [
        "# load(\"/content/sample_data/R_InventoryManagement.RData\")"
      ],
      "execution_count": null,
      "outputs": []
    },
    {
      "cell_type": "code",
      "metadata": {
        "colab": {
          "base_uri": "https://localhost:8080/",
          "height": 52
        },
        "id": "E0OUZ44HlMhu",
        "outputId": "e60f5c19-9f8e-4a6b-d680-c3c2dc0fc9a7"
      },
      "source": [
        "orders <- read_excel(\"/content/sample_data/EMBA-InventoryManagement.xls\")\n",
        "dim(orders)\n",
        "names(orders)"
      ],
      "execution_count": null,
      "outputs": [
        {
          "output_type": "display_data",
          "data": {
            "text/plain": [
              "[1] 32766     6"
            ],
            "text/latex": "\\begin{enumerate*}\n\\item 32766\n\\item 6\n\\end{enumerate*}\n",
            "text/markdown": "1. 32766\n2. 6\n\n\n",
            "text/html": [
              "<style>\n",
              ".list-inline {list-style: none; margin:0; padding: 0}\n",
              ".list-inline>li {display: inline-block}\n",
              ".list-inline>li:not(:last-child)::after {content: \"\\00b7\"; padding: 0 .5ex}\n",
              "</style>\n",
              "<ol class=list-inline><li>32766</li><li>6</li></ol>\n"
            ]
          },
          "metadata": {
            "tags": []
          }
        },
        {
          "output_type": "display_data",
          "data": {
            "text/plain": [
              "[1] \"dateDeliver\"   \"clientID\"      \"itemID\"        \"quantityOrder\"\n",
              "[5] \"orderNo\"       \"orderDate\"    "
            ],
            "text/latex": "\\begin{enumerate*}\n\\item 'dateDeliver'\n\\item 'clientID'\n\\item 'itemID'\n\\item 'quantityOrder'\n\\item 'orderNo'\n\\item 'orderDate'\n\\end{enumerate*}\n",
            "text/markdown": "1. 'dateDeliver'\n2. 'clientID'\n3. 'itemID'\n4. 'quantityOrder'\n5. 'orderNo'\n6. 'orderDate'\n\n\n",
            "text/html": [
              "<style>\n",
              ".list-inline {list-style: none; margin:0; padding: 0}\n",
              ".list-inline>li {display: inline-block}\n",
              ".list-inline>li:not(:last-child)::after {content: \"\\00b7\"; padding: 0 .5ex}\n",
              "</style>\n",
              "<ol class=list-inline><li>'dateDeliver'</li><li>'clientID'</li><li>'itemID'</li><li>'quantityOrder'</li><li>'orderNo'</li><li>'orderDate'</li></ol>\n"
            ]
          },
          "metadata": {
            "tags": []
          }
        }
      ]
    },
    {
      "cell_type": "code",
      "metadata": {
        "colab": {
          "base_uri": "https://localhost:8080/",
          "height": 275
        },
        "id": "d9_UlWKTmHX5",
        "outputId": "935bbc21-eeb8-4132-ac2b-c68835e979dd"
      },
      "source": [
        "head(orders)"
      ],
      "execution_count": null,
      "outputs": [
        {
          "output_type": "display_data",
          "data": {
            "text/plain": [
              "  dateDeliver clientID itemID   quantityOrder orderNo               orderDate \n",
              "1 2019/04/10  0230005  A5000016  1            1221-2019040040 -0001 2019/04/03\n",
              "2 2019/07/19  0230005  A5000016  9            1221-2019070166 -0001 2019/07/17\n",
              "3 2019/08/02  0230005  A5000016  1            1221-2019080036 -0001 2019/08/02\n",
              "4 2019/08/14  0230005  A5000016  4            1221-2019080134 -0003 2019/08/13\n",
              "5 2019/05/02  0230005  A5100037 10            1221-2019050002 -0001 2019/05/02\n",
              "6 2018/01/10  0260002  A5100207  5            1225-2017120060 -0002 2017/12/25"
            ],
            "text/latex": "A tibble: 6 × 6\n\\begin{tabular}{llllll}\n dateDeliver & clientID & itemID & quantityOrder & orderNo & orderDate\\\\\n <chr> & <chr> & <chr> & <dbl> & <chr> & <chr>\\\\\n\\hline\n\t 2019/04/10 & 0230005 & A5000016 &  1 & 1221-2019040040 -0001 & 2019/04/03\\\\\n\t 2019/07/19 & 0230005 & A5000016 &  9 & 1221-2019070166 -0001 & 2019/07/17\\\\\n\t 2019/08/02 & 0230005 & A5000016 &  1 & 1221-2019080036 -0001 & 2019/08/02\\\\\n\t 2019/08/14 & 0230005 & A5000016 &  4 & 1221-2019080134 -0003 & 2019/08/13\\\\\n\t 2019/05/02 & 0230005 & A5100037 & 10 & 1221-2019050002 -0001 & 2019/05/02\\\\\n\t 2018/01/10 & 0260002 & A5100207 &  5 & 1225-2017120060 -0002 & 2017/12/25\\\\\n\\end{tabular}\n",
            "text/markdown": "\nA tibble: 6 × 6\n\n| dateDeliver &lt;chr&gt; | clientID &lt;chr&gt; | itemID &lt;chr&gt; | quantityOrder &lt;dbl&gt; | orderNo &lt;chr&gt; | orderDate &lt;chr&gt; |\n|---|---|---|---|---|---|\n| 2019/04/10 | 0230005 | A5000016 |  1 | 1221-2019040040 -0001 | 2019/04/03 |\n| 2019/07/19 | 0230005 | A5000016 |  9 | 1221-2019070166 -0001 | 2019/07/17 |\n| 2019/08/02 | 0230005 | A5000016 |  1 | 1221-2019080036 -0001 | 2019/08/02 |\n| 2019/08/14 | 0230005 | A5000016 |  4 | 1221-2019080134 -0003 | 2019/08/13 |\n| 2019/05/02 | 0230005 | A5100037 | 10 | 1221-2019050002 -0001 | 2019/05/02 |\n| 2018/01/10 | 0260002 | A5100207 |  5 | 1225-2017120060 -0002 | 2017/12/25 |\n\n",
            "text/html": [
              "<table class=\"dataframe\">\n",
              "<caption>A tibble: 6 × 6</caption>\n",
              "<thead>\n",
              "\t<tr><th scope=col>dateDeliver</th><th scope=col>clientID</th><th scope=col>itemID</th><th scope=col>quantityOrder</th><th scope=col>orderNo</th><th scope=col>orderDate</th></tr>\n",
              "\t<tr><th scope=col>&lt;chr&gt;</th><th scope=col>&lt;chr&gt;</th><th scope=col>&lt;chr&gt;</th><th scope=col>&lt;dbl&gt;</th><th scope=col>&lt;chr&gt;</th><th scope=col>&lt;chr&gt;</th></tr>\n",
              "</thead>\n",
              "<tbody>\n",
              "\t<tr><td>2019/04/10</td><td>0230005</td><td>A5000016</td><td> 1</td><td>1221-2019040040 -0001</td><td>2019/04/03</td></tr>\n",
              "\t<tr><td>2019/07/19</td><td>0230005</td><td>A5000016</td><td> 9</td><td>1221-2019070166 -0001</td><td>2019/07/17</td></tr>\n",
              "\t<tr><td>2019/08/02</td><td>0230005</td><td>A5000016</td><td> 1</td><td>1221-2019080036 -0001</td><td>2019/08/02</td></tr>\n",
              "\t<tr><td>2019/08/14</td><td>0230005</td><td>A5000016</td><td> 4</td><td>1221-2019080134 -0003</td><td>2019/08/13</td></tr>\n",
              "\t<tr><td>2019/05/02</td><td>0230005</td><td>A5100037</td><td>10</td><td>1221-2019050002 -0001</td><td>2019/05/02</td></tr>\n",
              "\t<tr><td>2018/01/10</td><td>0260002</td><td>A5100207</td><td> 5</td><td>1225-2017120060 -0002</td><td>2017/12/25</td></tr>\n",
              "</tbody>\n",
              "</table>\n"
            ]
          },
          "metadata": {
            "tags": []
          }
        }
      ]
    },
    {
      "cell_type": "code",
      "metadata": {
        "colab": {
          "base_uri": "https://localhost:8080/",
          "height": 161
        },
        "id": "7sEchM3im2aJ",
        "outputId": "20845450-803b-4e3d-8b75-af166f5c41b0"
      },
      "source": [
        "orders02Test <- read_excel(\"/content/sample_data/EMBA-InventoryManagement02.xlsx\")\n",
        "dim(orders02Test)\n",
        "names(orders02Test)\n",
        "# 看看你原始的 Excel　檔案"
      ],
      "execution_count": null,
      "outputs": [
        {
          "output_type": "stream",
          "text": [
            "New names:\n",
            "* `` -> ...3\n",
            "* `` -> ...4\n",
            "* `` -> ...5\n",
            "* `` -> ...6\n",
            "\n"
          ],
          "name": "stderr"
        },
        {
          "output_type": "display_data",
          "data": {
            "text/plain": [
              "[1] 2606    6"
            ],
            "text/latex": "\\begin{enumerate*}\n\\item 2606\n\\item 6\n\\end{enumerate*}\n",
            "text/markdown": "1. 2606\n2. 6\n\n\n",
            "text/html": [
              "<style>\n",
              ".list-inline {list-style: none; margin:0; padding: 0}\n",
              ".list-inline>li {display: inline-block}\n",
              ".list-inline>li:not(:last-child)::after {content: \"\\00b7\"; padding: 0 .5ex}\n",
              "</style>\n",
              "<ol class=list-inline><li>2606</li><li>6</li></ol>\n"
            ]
          },
          "metadata": {
            "tags": []
          }
        },
        {
          "output_type": "display_data",
          "data": {
            "text/plain": [
              "[1] \"加總 - quantityOrder\" \"order_year\"           \"...3\"                \n",
              "[4] \"...4\"                 \"...5\"                 \"...6\"                "
            ],
            "text/latex": "\\begin{enumerate*}\n\\item '加總 - quantityOrder'\n\\item 'order\\_year'\n\\item '...3'\n\\item '...4'\n\\item '...5'\n\\item '...6'\n\\end{enumerate*}\n",
            "text/markdown": "1. '加總 - quantityOrder'\n2. 'order_year'\n3. '...3'\n4. '...4'\n5. '...5'\n6. '...6'\n\n\n",
            "text/html": [
              "<style>\n",
              ".list-inline {list-style: none; margin:0; padding: 0}\n",
              ".list-inline>li {display: inline-block}\n",
              ".list-inline>li:not(:last-child)::after {content: \"\\00b7\"; padding: 0 .5ex}\n",
              "</style>\n",
              "<ol class=list-inline><li>'加總 - quantityOrder'</li><li>'order_year'</li><li>'...3'</li><li>'...4'</li><li>'...5'</li><li>'...6'</li></ol>\n"
            ]
          },
          "metadata": {
            "tags": []
          }
        }
      ]
    },
    {
      "cell_type": "markdown",
      "metadata": {
        "id": "IWHoOZ10O3wn"
      },
      "source": [
        "#查table 所有欄位名稱與維度\n",
        "Check all the column names and dimensions of the table"
      ]
    },
    {
      "cell_type": "code",
      "metadata": {
        "colab": {
          "base_uri": "https://localhost:8080/",
          "height": 52
        },
        "id": "77PrCLVwlYFa",
        "outputId": "ab2d4a79-fa31-4d5b-e350-ffe921bbc082"
      },
      "source": [
        "orders02 <- read_excel(\"/content/sample_data/EMBA-InventoryManagement02.xlsx\", sheet = \"Data\")\n",
        "dim(orders02)\n",
        "names(orders02)"
      ],
      "execution_count": null,
      "outputs": [
        {
          "output_type": "display_data",
          "data": {
            "text/plain": [
              "[1] 32181    11"
            ],
            "text/latex": "\\begin{enumerate*}\n\\item 32181\n\\item 11\n\\end{enumerate*}\n",
            "text/markdown": "1. 32181\n2. 11\n\n\n",
            "text/html": [
              "<style>\n",
              ".list-inline {list-style: none; margin:0; padding: 0}\n",
              ".list-inline>li {display: inline-block}\n",
              ".list-inline>li:not(:last-child)::after {content: \"\\00b7\"; padding: 0 .5ex}\n",
              "</style>\n",
              "<ol class=list-inline><li>32181</li><li>11</li></ol>\n"
            ]
          },
          "metadata": {
            "tags": []
          }
        },
        {
          "output_type": "display_data",
          "data": {
            "text/plain": [
              " [1] \"dateDeliver\"         \"clientID\"            \"itemID\"             \n",
              " [4] \"quantityOrder\"       \"unit\"                \"orderNo\"            \n",
              " [7] \"orderDate\"           \"order_year\"          \"order_mth\"          \n",
              "[10] \"diff_order_delivery\" \"season\"             "
            ],
            "text/latex": "\\begin{enumerate*}\n\\item 'dateDeliver'\n\\item 'clientID'\n\\item 'itemID'\n\\item 'quantityOrder'\n\\item 'unit'\n\\item 'orderNo'\n\\item 'orderDate'\n\\item 'order\\_year'\n\\item 'order\\_mth'\n\\item 'diff\\_order\\_delivery'\n\\item 'season'\n\\end{enumerate*}\n",
            "text/markdown": "1. 'dateDeliver'\n2. 'clientID'\n3. 'itemID'\n4. 'quantityOrder'\n5. 'unit'\n6. 'orderNo'\n7. 'orderDate'\n8. 'order_year'\n9. 'order_mth'\n10. 'diff_order_delivery'\n11. 'season'\n\n\n",
            "text/html": [
              "<style>\n",
              ".list-inline {list-style: none; margin:0; padding: 0}\n",
              ".list-inline>li {display: inline-block}\n",
              ".list-inline>li:not(:last-child)::after {content: \"\\00b7\"; padding: 0 .5ex}\n",
              "</style>\n",
              "<ol class=list-inline><li>'dateDeliver'</li><li>'clientID'</li><li>'itemID'</li><li>'quantityOrder'</li><li>'unit'</li><li>'orderNo'</li><li>'orderDate'</li><li>'order_year'</li><li>'order_mth'</li><li>'diff_order_delivery'</li><li>'season'</li></ol>\n"
            ]
          },
          "metadata": {
            "tags": []
          }
        }
      ]
    },
    {
      "cell_type": "code",
      "metadata": {
        "colab": {
          "base_uri": "https://localhost:8080/",
          "height": 275
        },
        "id": "gHiWcy7nmvQJ",
        "outputId": "658f5643-1a0f-44dc-c97e-2a9dabe6a4af"
      },
      "source": [
        "head(orders02)"
      ],
      "execution_count": null,
      "outputs": [
        {
          "output_type": "display_data",
          "data": {
            "text/plain": [
              "  dateDeliver clientID itemID   quantityOrder unit orderNo              \n",
              "1 2018/10/23  0250538  W1000100 0.50          卷   1225-2018100033 -0002\n",
              "2 2018/01/10  0260002  X5000013 0.76          PCS  1225-2017120057 -0029\n",
              "3 2018/01/02  0040033  AZ064480 1.00          PCS  1221-2017110246 -0004\n",
              "4 2018/01/02  0040033  AZ064484 1.00          PCS  1221-2017110246 -0005\n",
              "5 2018/01/02  0040033  AZ064484 1.00          PCS  1221-2017110188 -0001\n",
              "6 2018/01/02  0040033  AZ064484 1.00          PCS  1221-2017110295 -0001\n",
              "  orderDate  order_year order_mth diff_order_delivery season\n",
              "1 2018/10/15 2018       10         8                  4     \n",
              "2 2017/12/25 2017       12        16                  4     \n",
              "3 2017/11/22 2017       11        41                  4     \n",
              "4 2017/11/22 2017       11        41                  4     \n",
              "5 2017/11/17 2017       11        46                  4     \n",
              "6 2017/11/27 2017       11        36                  4     "
            ],
            "text/latex": "A tibble: 6 × 11\n\\begin{tabular}{lllllllllll}\n dateDeliver & clientID & itemID & quantityOrder & unit & orderNo & orderDate & order\\_year & order\\_mth & diff\\_order\\_delivery & season\\\\\n <chr> & <chr> & <chr> & <dbl> & <chr> & <chr> & <chr> & <dbl> & <dbl> & <dbl> & <dbl>\\\\\n\\hline\n\t 2018/10/23 & 0250538 & W1000100 & 0.50 & 卷  & 1225-2018100033 -0002 & 2018/10/15 & 2018 & 10 &  8 & 4\\\\\n\t 2018/01/10 & 0260002 & X5000013 & 0.76 & PCS & 1225-2017120057 -0029 & 2017/12/25 & 2017 & 12 & 16 & 4\\\\\n\t 2018/01/02 & 0040033 & AZ064480 & 1.00 & PCS & 1221-2017110246 -0004 & 2017/11/22 & 2017 & 11 & 41 & 4\\\\\n\t 2018/01/02 & 0040033 & AZ064484 & 1.00 & PCS & 1221-2017110246 -0005 & 2017/11/22 & 2017 & 11 & 41 & 4\\\\\n\t 2018/01/02 & 0040033 & AZ064484 & 1.00 & PCS & 1221-2017110188 -0001 & 2017/11/17 & 2017 & 11 & 46 & 4\\\\\n\t 2018/01/02 & 0040033 & AZ064484 & 1.00 & PCS & 1221-2017110295 -0001 & 2017/11/27 & 2017 & 11 & 36 & 4\\\\\n\\end{tabular}\n",
            "text/markdown": "\nA tibble: 6 × 11\n\n| dateDeliver &lt;chr&gt; | clientID &lt;chr&gt; | itemID &lt;chr&gt; | quantityOrder &lt;dbl&gt; | unit &lt;chr&gt; | orderNo &lt;chr&gt; | orderDate &lt;chr&gt; | order_year &lt;dbl&gt; | order_mth &lt;dbl&gt; | diff_order_delivery &lt;dbl&gt; | season &lt;dbl&gt; |\n|---|---|---|---|---|---|---|---|---|---|---|\n| 2018/10/23 | 0250538 | W1000100 | 0.50 | 卷  | 1225-2018100033 -0002 | 2018/10/15 | 2018 | 10 |  8 | 4 |\n| 2018/01/10 | 0260002 | X5000013 | 0.76 | PCS | 1225-2017120057 -0029 | 2017/12/25 | 2017 | 12 | 16 | 4 |\n| 2018/01/02 | 0040033 | AZ064480 | 1.00 | PCS | 1221-2017110246 -0004 | 2017/11/22 | 2017 | 11 | 41 | 4 |\n| 2018/01/02 | 0040033 | AZ064484 | 1.00 | PCS | 1221-2017110246 -0005 | 2017/11/22 | 2017 | 11 | 41 | 4 |\n| 2018/01/02 | 0040033 | AZ064484 | 1.00 | PCS | 1221-2017110188 -0001 | 2017/11/17 | 2017 | 11 | 46 | 4 |\n| 2018/01/02 | 0040033 | AZ064484 | 1.00 | PCS | 1221-2017110295 -0001 | 2017/11/27 | 2017 | 11 | 36 | 4 |\n\n",
            "text/html": [
              "<table class=\"dataframe\">\n",
              "<caption>A tibble: 6 × 11</caption>\n",
              "<thead>\n",
              "\t<tr><th scope=col>dateDeliver</th><th scope=col>clientID</th><th scope=col>itemID</th><th scope=col>quantityOrder</th><th scope=col>unit</th><th scope=col>orderNo</th><th scope=col>orderDate</th><th scope=col>order_year</th><th scope=col>order_mth</th><th scope=col>diff_order_delivery</th><th scope=col>season</th></tr>\n",
              "\t<tr><th scope=col>&lt;chr&gt;</th><th scope=col>&lt;chr&gt;</th><th scope=col>&lt;chr&gt;</th><th scope=col>&lt;dbl&gt;</th><th scope=col>&lt;chr&gt;</th><th scope=col>&lt;chr&gt;</th><th scope=col>&lt;chr&gt;</th><th scope=col>&lt;dbl&gt;</th><th scope=col>&lt;dbl&gt;</th><th scope=col>&lt;dbl&gt;</th><th scope=col>&lt;dbl&gt;</th></tr>\n",
              "</thead>\n",
              "<tbody>\n",
              "\t<tr><td>2018/10/23</td><td>0250538</td><td>W1000100</td><td>0.50</td><td>卷 </td><td>1225-2018100033 -0002</td><td>2018/10/15</td><td>2018</td><td>10</td><td> 8</td><td>4</td></tr>\n",
              "\t<tr><td>2018/01/10</td><td>0260002</td><td>X5000013</td><td>0.76</td><td>PCS</td><td>1225-2017120057 -0029</td><td>2017/12/25</td><td>2017</td><td>12</td><td>16</td><td>4</td></tr>\n",
              "\t<tr><td>2018/01/02</td><td>0040033</td><td>AZ064480</td><td>1.00</td><td>PCS</td><td>1221-2017110246 -0004</td><td>2017/11/22</td><td>2017</td><td>11</td><td>41</td><td>4</td></tr>\n",
              "\t<tr><td>2018/01/02</td><td>0040033</td><td>AZ064484</td><td>1.00</td><td>PCS</td><td>1221-2017110246 -0005</td><td>2017/11/22</td><td>2017</td><td>11</td><td>41</td><td>4</td></tr>\n",
              "\t<tr><td>2018/01/02</td><td>0040033</td><td>AZ064484</td><td>1.00</td><td>PCS</td><td>1221-2017110188 -0001</td><td>2017/11/17</td><td>2017</td><td>11</td><td>46</td><td>4</td></tr>\n",
              "\t<tr><td>2018/01/02</td><td>0040033</td><td>AZ064484</td><td>1.00</td><td>PCS</td><td>1221-2017110295 -0001</td><td>2017/11/27</td><td>2017</td><td>11</td><td>36</td><td>4</td></tr>\n",
              "</tbody>\n",
              "</table>\n"
            ]
          },
          "metadata": {
            "tags": []
          }
        }
      ]
    },
    {
      "cell_type": "markdown",
      "metadata": {
        "id": "nsqUOdtsOv42"
      },
      "source": [
        "#列出資料內每個欄位的狀態\n",
        "List the status of each field in the data"
      ]
    },
    {
      "cell_type": "code",
      "metadata": {
        "colab": {
          "base_uri": "https://localhost:8080/"
        },
        "id": "mfAQFgfDnPa6",
        "outputId": "ed1a3824-2793-4103-e663-a083a44a60f1"
      },
      "source": [
        "str(orders02)"
      ],
      "execution_count": null,
      "outputs": [
        {
          "output_type": "stream",
          "text": [
            "tibble[,11] [32,181 × 11] (S3: tbl_df/tbl/data.frame)\n",
            " $ dateDeliver        : chr [1:32181] \"2018/10/23\" \"2018/01/10\" \"2018/01/02\" \"2018/01/02\" ...\n",
            " $ clientID           : chr [1:32181] \"0250538\" \"0260002\" \"0040033\" \"0040033\" ...\n",
            " $ itemID             : chr [1:32181] \"W1000100\" \"X5000013\" \"AZ064480\" \"AZ064484\" ...\n",
            " $ quantityOrder      : num [1:32181] 0.5 0.76 1 1 1 1 1 1 1 1 ...\n",
            " $ unit               : chr [1:32181] \"卷\" \"PCS\" \"PCS\" \"PCS\" ...\n",
            " $ orderNo            : chr [1:32181] \"1225-2018100033 -0002\" \"1225-2017120057 -0029\" \"1221-2017110246 -0004\" \"1221-2017110246 -0005\" ...\n",
            " $ orderDate          : chr [1:32181] \"2018/10/15\" \"2017/12/25\" \"2017/11/22\" \"2017/11/22\" ...\n",
            " $ order_year         : num [1:32181] 2018 2017 2017 2017 2017 ...\n",
            " $ order_mth          : num [1:32181] 10 12 11 11 11 11 11 10 10 12 ...\n",
            " $ diff_order_delivery: num [1:32181] 8 16 41 41 46 36 36 67 77 6 ...\n",
            " $ season             : num [1:32181] 4 4 4 4 4 4 4 4 4 4 ...\n"
          ],
          "name": "stdout"
        }
      ]
    },
    {
      "cell_type": "markdown",
      "metadata": {
        "id": "naE-uPc2Or0r"
      },
      "source": [
        "#summary()則給出每個欄位的「最大值」、「最小值」、「平均值」、「中位數」「第一四分位數」\n",
        "summary() gives the ``maximum'', ``minimum'', ``average'', ``median'' and ``first quartile'' of each field"
      ]
    },
    {
      "cell_type": "code",
      "metadata": {
        "colab": {
          "base_uri": "https://localhost:8080/",
          "height": 399
        },
        "id": "goo2NEyinrfD",
        "outputId": "aef2185c-9bbd-49c1-c3ef-170600aa4578"
      },
      "source": [
        "summary(orders02)"
      ],
      "execution_count": null,
      "outputs": [
        {
          "output_type": "display_data",
          "data": {
            "text/plain": [
              " dateDeliver          clientID            itemID          quantityOrder    \n",
              " Length:32181       Length:32181       Length:32181       Min.   :   0.50  \n",
              " Class :character   Class :character   Class :character   1st Qu.:   1.00  \n",
              " Mode  :character   Mode  :character   Mode  :character   Median :   2.00  \n",
              "                                                          Mean   :  13.09  \n",
              "                                                          3rd Qu.:   6.00  \n",
              "                                                          Max.   :6400.00  \n",
              "     unit             orderNo           orderDate           order_year  \n",
              " Length:32181       Length:32181       Length:32181       Min.   :2017  \n",
              " Class :character   Class :character   Class :character   1st Qu.:2018  \n",
              " Mode  :character   Mode  :character   Mode  :character   Median :2019  \n",
              "                                                          Mean   :2019  \n",
              "                                                          3rd Qu.:2020  \n",
              "                                                          Max.   :2020  \n",
              "   order_mth      diff_order_delivery     season     \n",
              " Min.   : 1.000   Min.   : -5.00      Min.   :1.000  \n",
              " 1st Qu.: 3.000   1st Qu.:  0.00      1st Qu.:1.000  \n",
              " Median : 7.000   Median :  8.00      Median :3.000  \n",
              " Mean   : 6.593   Mean   : 18.51      Mean   :2.534  \n",
              " 3rd Qu.:10.000   3rd Qu.: 25.00      3rd Qu.:4.000  \n",
              " Max.   :12.000   Max.   :564.00      Max.   :4.000  "
            ]
          },
          "metadata": {
            "tags": []
          }
        }
      ]
    },
    {
      "cell_type": "markdown",
      "metadata": {
        "id": "LKWNtTAqPCX-"
      },
      "source": [
        "#統計所有訂單資找出銷售產品前 10 大排行\n",
        "Count all orders to find the top 10 products sold"
      ]
    },
    {
      "cell_type": "code",
      "metadata": {
        "colab": {
          "base_uri": "https://localhost:8080/",
          "height": 275
        },
        "id": "1uYB6gpBPHBZ",
        "outputId": "420042b9-6aaf-4c45-d6bf-8bac6f0d3d64"
      },
      "source": [
        "ordersByitem <- orders02 %>% \n",
        " group_by(Numitem= itemID) %>%                #group_by  itemID 小計\n",
        "  summarise(TotalCount=n(), Sumqty=sum(quantityOrder)) %>% #summarise  quantityOrder 總計\n",
        "  mutate(conversordersRate = as.integer(Sumqty/TotalCount) )      # 平均單次訂單數量\n",
        "head(ordersByitem)"
      ],
      "execution_count": null,
      "outputs": [
        {
          "output_type": "display_data",
          "data": {
            "text/plain": [
              "  Numitem  TotalCount Sumqty conversordersRate\n",
              "1 A5000016  4          15     3               \n",
              "2 A5100037  1          10    10               \n",
              "3 A5100207 15          52     3               \n",
              "4 A5100241  2          10     5               \n",
              "5 A5100256 23         344    14               \n",
              "6 A5100364  1           1     1               "
            ],
            "text/latex": "A tibble: 6 × 4\n\\begin{tabular}{llll}\n Numitem & TotalCount & Sumqty & conversordersRate\\\\\n <chr> & <int> & <dbl> & <int>\\\\\n\\hline\n\t A5000016 &  4 &  15 &  3\\\\\n\t A5100037 &  1 &  10 & 10\\\\\n\t A5100207 & 15 &  52 &  3\\\\\n\t A5100241 &  2 &  10 &  5\\\\\n\t A5100256 & 23 & 344 & 14\\\\\n\t A5100364 &  1 &   1 &  1\\\\\n\\end{tabular}\n",
            "text/markdown": "\nA tibble: 6 × 4\n\n| Numitem &lt;chr&gt; | TotalCount &lt;int&gt; | Sumqty &lt;dbl&gt; | conversordersRate &lt;int&gt; |\n|---|---|---|---|\n| A5000016 |  4 |  15 |  3 |\n| A5100037 |  1 |  10 | 10 |\n| A5100207 | 15 |  52 |  3 |\n| A5100241 |  2 |  10 |  5 |\n| A5100256 | 23 | 344 | 14 |\n| A5100364 |  1 |   1 |  1 |\n\n",
            "text/html": [
              "<table class=\"dataframe\">\n",
              "<caption>A tibble: 6 × 4</caption>\n",
              "<thead>\n",
              "\t<tr><th scope=col>Numitem</th><th scope=col>TotalCount</th><th scope=col>Sumqty</th><th scope=col>conversordersRate</th></tr>\n",
              "\t<tr><th scope=col>&lt;chr&gt;</th><th scope=col>&lt;int&gt;</th><th scope=col>&lt;dbl&gt;</th><th scope=col>&lt;int&gt;</th></tr>\n",
              "</thead>\n",
              "<tbody>\n",
              "\t<tr><td>A5000016</td><td> 4</td><td> 15</td><td> 3</td></tr>\n",
              "\t<tr><td>A5100037</td><td> 1</td><td> 10</td><td>10</td></tr>\n",
              "\t<tr><td>A5100207</td><td>15</td><td> 52</td><td> 3</td></tr>\n",
              "\t<tr><td>A5100241</td><td> 2</td><td> 10</td><td> 5</td></tr>\n",
              "\t<tr><td>A5100256</td><td>23</td><td>344</td><td>14</td></tr>\n",
              "\t<tr><td>A5100364</td><td> 1</td><td>  1</td><td> 1</td></tr>\n",
              "</tbody>\n",
              "</table>\n"
            ]
          },
          "metadata": {
            "tags": []
          }
        }
      ]
    },
    {
      "cell_type": "markdown",
      "metadata": {
        "id": "ql3Ec87iR0Ir"
      },
      "source": [
        "# Sumqty 哪一個客戶訂單數量最多\n",
        "Sumqty which customer has the most orders"
      ]
    },
    {
      "cell_type": "code",
      "metadata": {
        "colab": {
          "base_uri": "https://localhost:8080/",
          "height": 395
        },
        "id": "WqIjCFXcQCOd",
        "outputId": "e283615d-97fc-4816-f323-c2af1e4f31d4"
      },
      "source": [
        "ordersByitem_top10Sumqty <- top_n(ordersByitem, 10, Sumqty)  %>% arrange(desc(Sumqty))\n",
        "ordersByitem_top10Sumqty"
      ],
      "execution_count": null,
      "outputs": [
        {
          "output_type": "display_data",
          "data": {
            "text/plain": [
              "   Numitem  TotalCount Sumqty conversordersRate\n",
              "1  X5500220   5        28800  5760             \n",
              "2  ET300493  12        11810   984             \n",
              "3  X2510051   8        11174  1396             \n",
              "4  M1020041 938         8971     9             \n",
              "5  E8100029   3         7450  2483             \n",
              "6  EB000241   9         6000   666             \n",
              "7  AZ062656  22         5970   271             \n",
              "8  AZ500061 274         5098    18             \n",
              "9  W0100449 181         4671    25             \n",
              "10 AZ064750  17         4616   271             "
            ],
            "text/latex": "A tibble: 10 × 4\n\\begin{tabular}{llll}\n Numitem & TotalCount & Sumqty & conversordersRate\\\\\n <chr> & <int> & <dbl> & <int>\\\\\n\\hline\n\t X5500220 &   5 & 28800 & 5760\\\\\n\t ET300493 &  12 & 11810 &  984\\\\\n\t X2510051 &   8 & 11174 & 1396\\\\\n\t M1020041 & 938 &  8971 &    9\\\\\n\t E8100029 &   3 &  7450 & 2483\\\\\n\t EB000241 &   9 &  6000 &  666\\\\\n\t AZ062656 &  22 &  5970 &  271\\\\\n\t AZ500061 & 274 &  5098 &   18\\\\\n\t W0100449 & 181 &  4671 &   25\\\\\n\t AZ064750 &  17 &  4616 &  271\\\\\n\\end{tabular}\n",
            "text/markdown": "\nA tibble: 10 × 4\n\n| Numitem &lt;chr&gt; | TotalCount &lt;int&gt; | Sumqty &lt;dbl&gt; | conversordersRate &lt;int&gt; |\n|---|---|---|---|\n| X5500220 |   5 | 28800 | 5760 |\n| ET300493 |  12 | 11810 |  984 |\n| X2510051 |   8 | 11174 | 1396 |\n| M1020041 | 938 |  8971 |    9 |\n| E8100029 |   3 |  7450 | 2483 |\n| EB000241 |   9 |  6000 |  666 |\n| AZ062656 |  22 |  5970 |  271 |\n| AZ500061 | 274 |  5098 |   18 |\n| W0100449 | 181 |  4671 |   25 |\n| AZ064750 |  17 |  4616 |  271 |\n\n",
            "text/html": [
              "<table class=\"dataframe\">\n",
              "<caption>A tibble: 10 × 4</caption>\n",
              "<thead>\n",
              "\t<tr><th scope=col>Numitem</th><th scope=col>TotalCount</th><th scope=col>Sumqty</th><th scope=col>conversordersRate</th></tr>\n",
              "\t<tr><th scope=col>&lt;chr&gt;</th><th scope=col>&lt;int&gt;</th><th scope=col>&lt;dbl&gt;</th><th scope=col>&lt;int&gt;</th></tr>\n",
              "</thead>\n",
              "<tbody>\n",
              "\t<tr><td>X5500220</td><td>  5</td><td>28800</td><td>5760</td></tr>\n",
              "\t<tr><td>ET300493</td><td> 12</td><td>11810</td><td> 984</td></tr>\n",
              "\t<tr><td>X2510051</td><td>  8</td><td>11174</td><td>1396</td></tr>\n",
              "\t<tr><td>M1020041</td><td>938</td><td> 8971</td><td>   9</td></tr>\n",
              "\t<tr><td>E8100029</td><td>  3</td><td> 7450</td><td>2483</td></tr>\n",
              "\t<tr><td>EB000241</td><td>  9</td><td> 6000</td><td> 666</td></tr>\n",
              "\t<tr><td>AZ062656</td><td> 22</td><td> 5970</td><td> 271</td></tr>\n",
              "\t<tr><td>AZ500061</td><td>274</td><td> 5098</td><td>  18</td></tr>\n",
              "\t<tr><td>W0100449</td><td>181</td><td> 4671</td><td>  25</td></tr>\n",
              "\t<tr><td>AZ064750</td><td> 17</td><td> 4616</td><td> 271</td></tr>\n",
              "</tbody>\n",
              "</table>\n"
            ]
          },
          "metadata": {
            "tags": []
          }
        }
      ]
    },
    {
      "cell_type": "markdown",
      "metadata": {
        "id": "niqn-wkDRoSd"
      },
      "source": [
        "# conversordersRate 哪一個客戶單次訂最多\n",
        "conversordersRate which customer has the most single order"
      ]
    },
    {
      "cell_type": "code",
      "metadata": {
        "colab": {
          "base_uri": "https://localhost:8080/",
          "height": 395
        },
        "id": "0UfwtqwbRkf9",
        "outputId": "31321a93-8352-421a-805a-99f98e47fc26"
      },
      "source": [
        "ordersByitem_top10conversordersRate <- top_n(ordersByitem, 10, Sumqty)  %>% arrange(desc(conversordersRate))\n",
        "ordersByitem_top10conversordersRate"
      ],
      "execution_count": null,
      "outputs": [
        {
          "output_type": "display_data",
          "data": {
            "text/plain": [
              "   Numitem  TotalCount Sumqty conversordersRate\n",
              "1  X5500220   5        28800  5760             \n",
              "2  E8100029   3         7450  2483             \n",
              "3  X2510051   8        11174  1396             \n",
              "4  ET300493  12        11810   984             \n",
              "5  EB000241   9         6000   666             \n",
              "6  AZ062656  22         5970   271             \n",
              "7  AZ064750  17         4616   271             \n",
              "8  W0100449 181         4671    25             \n",
              "9  AZ500061 274         5098    18             \n",
              "10 M1020041 938         8971     9             "
            ],
            "text/latex": "A tibble: 10 × 4\n\\begin{tabular}{llll}\n Numitem & TotalCount & Sumqty & conversordersRate\\\\\n <chr> & <int> & <dbl> & <int>\\\\\n\\hline\n\t X5500220 &   5 & 28800 & 5760\\\\\n\t E8100029 &   3 &  7450 & 2483\\\\\n\t X2510051 &   8 & 11174 & 1396\\\\\n\t ET300493 &  12 & 11810 &  984\\\\\n\t EB000241 &   9 &  6000 &  666\\\\\n\t AZ062656 &  22 &  5970 &  271\\\\\n\t AZ064750 &  17 &  4616 &  271\\\\\n\t W0100449 & 181 &  4671 &   25\\\\\n\t AZ500061 & 274 &  5098 &   18\\\\\n\t M1020041 & 938 &  8971 &    9\\\\\n\\end{tabular}\n",
            "text/markdown": "\nA tibble: 10 × 4\n\n| Numitem &lt;chr&gt; | TotalCount &lt;int&gt; | Sumqty &lt;dbl&gt; | conversordersRate &lt;int&gt; |\n|---|---|---|---|\n| X5500220 |   5 | 28800 | 5760 |\n| E8100029 |   3 |  7450 | 2483 |\n| X2510051 |   8 | 11174 | 1396 |\n| ET300493 |  12 | 11810 |  984 |\n| EB000241 |   9 |  6000 |  666 |\n| AZ062656 |  22 |  5970 |  271 |\n| AZ064750 |  17 |  4616 |  271 |\n| W0100449 | 181 |  4671 |   25 |\n| AZ500061 | 274 |  5098 |   18 |\n| M1020041 | 938 |  8971 |    9 |\n\n",
            "text/html": [
              "<table class=\"dataframe\">\n",
              "<caption>A tibble: 10 × 4</caption>\n",
              "<thead>\n",
              "\t<tr><th scope=col>Numitem</th><th scope=col>TotalCount</th><th scope=col>Sumqty</th><th scope=col>conversordersRate</th></tr>\n",
              "\t<tr><th scope=col>&lt;chr&gt;</th><th scope=col>&lt;int&gt;</th><th scope=col>&lt;dbl&gt;</th><th scope=col>&lt;int&gt;</th></tr>\n",
              "</thead>\n",
              "<tbody>\n",
              "\t<tr><td>X5500220</td><td>  5</td><td>28800</td><td>5760</td></tr>\n",
              "\t<tr><td>E8100029</td><td>  3</td><td> 7450</td><td>2483</td></tr>\n",
              "\t<tr><td>X2510051</td><td>  8</td><td>11174</td><td>1396</td></tr>\n",
              "\t<tr><td>ET300493</td><td> 12</td><td>11810</td><td> 984</td></tr>\n",
              "\t<tr><td>EB000241</td><td>  9</td><td> 6000</td><td> 666</td></tr>\n",
              "\t<tr><td>AZ062656</td><td> 22</td><td> 5970</td><td> 271</td></tr>\n",
              "\t<tr><td>AZ064750</td><td> 17</td><td> 4616</td><td> 271</td></tr>\n",
              "\t<tr><td>W0100449</td><td>181</td><td> 4671</td><td>  25</td></tr>\n",
              "\t<tr><td>AZ500061</td><td>274</td><td> 5098</td><td>  18</td></tr>\n",
              "\t<tr><td>M1020041</td><td>938</td><td> 8971</td><td>   9</td></tr>\n",
              "</tbody>\n",
              "</table>\n"
            ]
          },
          "metadata": {
            "tags": []
          }
        }
      ]
    },
    {
      "cell_type": "markdown",
      "metadata": {
        "id": "Cmtee-uCSTv4"
      },
      "source": [
        "#統計所有訂單資找出銷售產品前 10 大客戶排行\n",
        "Count all the orders and find out the top 10 customers for selling products"
      ]
    },
    {
      "cell_type": "code",
      "metadata": {
        "colab": {
          "base_uri": "https://localhost:8080/",
          "height": 275
        },
        "id": "k8TGSarNSTS9",
        "outputId": "eb1f1038-9537-46cb-c4e3-ce09f54bee01"
      },
      "source": [
        "ordersBycust <- orders02 %>% \n",
        "  group_by(numcust=clientID) %>% #group_by小計\n",
        "  summarise(TotalCount=n(), Sumqty=sum(quantityOrder)) %>% #summarise總計\n",
        "  mutate(conversordersRatey = as.integer(Sumqty/TotalCount))\n",
        "head(ordersBycust)"
      ],
      "execution_count": null,
      "outputs": [
        {
          "output_type": "display_data",
          "data": {
            "text/plain": [
              "  numcust TotalCount Sumqty conversordersRatey\n",
              "1 0010009  12           37    3               \n",
              "2 0010015  23           42    1               \n",
              "3 0020009  38        17602  463               \n",
              "4 0020013  64          105    1               \n",
              "5 0020030   4            4    1               \n",
              "6 0020048 268          527    1               "
            ],
            "text/latex": "A tibble: 6 × 4\n\\begin{tabular}{llll}\n numcust & TotalCount & Sumqty & conversordersRatey\\\\\n <chr> & <int> & <dbl> & <int>\\\\\n\\hline\n\t 0010009 &  12 &    37 &   3\\\\\n\t 0010015 &  23 &    42 &   1\\\\\n\t 0020009 &  38 & 17602 & 463\\\\\n\t 0020013 &  64 &   105 &   1\\\\\n\t 0020030 &   4 &     4 &   1\\\\\n\t 0020048 & 268 &   527 &   1\\\\\n\\end{tabular}\n",
            "text/markdown": "\nA tibble: 6 × 4\n\n| numcust &lt;chr&gt; | TotalCount &lt;int&gt; | Sumqty &lt;dbl&gt; | conversordersRatey &lt;int&gt; |\n|---|---|---|---|\n| 0010009 |  12 |    37 |   3 |\n| 0010015 |  23 |    42 |   1 |\n| 0020009 |  38 | 17602 | 463 |\n| 0020013 |  64 |   105 |   1 |\n| 0020030 |   4 |     4 |   1 |\n| 0020048 | 268 |   527 |   1 |\n\n",
            "text/html": [
              "<table class=\"dataframe\">\n",
              "<caption>A tibble: 6 × 4</caption>\n",
              "<thead>\n",
              "\t<tr><th scope=col>numcust</th><th scope=col>TotalCount</th><th scope=col>Sumqty</th><th scope=col>conversordersRatey</th></tr>\n",
              "\t<tr><th scope=col>&lt;chr&gt;</th><th scope=col>&lt;int&gt;</th><th scope=col>&lt;dbl&gt;</th><th scope=col>&lt;int&gt;</th></tr>\n",
              "</thead>\n",
              "<tbody>\n",
              "\t<tr><td>0010009</td><td> 12</td><td>   37</td><td>  3</td></tr>\n",
              "\t<tr><td>0010015</td><td> 23</td><td>   42</td><td>  1</td></tr>\n",
              "\t<tr><td>0020009</td><td> 38</td><td>17602</td><td>463</td></tr>\n",
              "\t<tr><td>0020013</td><td> 64</td><td>  105</td><td>  1</td></tr>\n",
              "\t<tr><td>0020030</td><td>  4</td><td>    4</td><td>  1</td></tr>\n",
              "\t<tr><td>0020048</td><td>268</td><td>  527</td><td>  1</td></tr>\n",
              "</tbody>\n",
              "</table>\n"
            ]
          },
          "metadata": {
            "tags": []
          }
        }
      ]
    },
    {
      "cell_type": "markdown",
      "metadata": {
        "id": "YJqD1itSTh6M"
      },
      "source": [
        "# Sumqty 哪一個商品訂單數量最多\n",
        "Sumqty which product has the most orders"
      ]
    },
    {
      "cell_type": "code",
      "metadata": {
        "colab": {
          "base_uri": "https://localhost:8080/",
          "height": 395
        },
        "id": "yqQfIyUDS7Yt",
        "outputId": "c76974d6-aa97-4a4c-fa9c-b708e7f1e3d2"
      },
      "source": [
        "ordersBycust_top10Sumqty <- top_n(ordersBycust, 10, Sumqty)  %>% arrange(desc(Sumqty))\n",
        "ordersBycust_top10Sumqty"
      ],
      "execution_count": null,
      "outputs": [
        {
          "output_type": "display_data",
          "data": {
            "text/plain": [
              "   numcust TotalCount Sumqty   conversordersRatey\n",
              "1  0260002 2324       133163.9  57               \n",
              "2  0040084 1545        26216.0  16               \n",
              "3  0250040  534        23146.0  43               \n",
              "4  0240002 2680        18820.0   7               \n",
              "5  0020009   38        17602.0 463               \n",
              "6  0220012   51        13768.0 269               \n",
              "7  0250102  434        13723.0  31               \n",
              "8  0020320  764        13534.0  17               \n",
              "9  0040143  812        13504.0  16               \n",
              "10 0250345   52        12559.0 241               "
            ],
            "text/latex": "A tibble: 10 × 4\n\\begin{tabular}{llll}\n numcust & TotalCount & Sumqty & conversordersRatey\\\\\n <chr> & <int> & <dbl> & <int>\\\\\n\\hline\n\t 0260002 & 2324 & 133163.9 &  57\\\\\n\t 0040084 & 1545 &  26216.0 &  16\\\\\n\t 0250040 &  534 &  23146.0 &  43\\\\\n\t 0240002 & 2680 &  18820.0 &   7\\\\\n\t 0020009 &   38 &  17602.0 & 463\\\\\n\t 0220012 &   51 &  13768.0 & 269\\\\\n\t 0250102 &  434 &  13723.0 &  31\\\\\n\t 0020320 &  764 &  13534.0 &  17\\\\\n\t 0040143 &  812 &  13504.0 &  16\\\\\n\t 0250345 &   52 &  12559.0 & 241\\\\\n\\end{tabular}\n",
            "text/markdown": "\nA tibble: 10 × 4\n\n| numcust &lt;chr&gt; | TotalCount &lt;int&gt; | Sumqty &lt;dbl&gt; | conversordersRatey &lt;int&gt; |\n|---|---|---|---|\n| 0260002 | 2324 | 133163.9 |  57 |\n| 0040084 | 1545 |  26216.0 |  16 |\n| 0250040 |  534 |  23146.0 |  43 |\n| 0240002 | 2680 |  18820.0 |   7 |\n| 0020009 |   38 |  17602.0 | 463 |\n| 0220012 |   51 |  13768.0 | 269 |\n| 0250102 |  434 |  13723.0 |  31 |\n| 0020320 |  764 |  13534.0 |  17 |\n| 0040143 |  812 |  13504.0 |  16 |\n| 0250345 |   52 |  12559.0 | 241 |\n\n",
            "text/html": [
              "<table class=\"dataframe\">\n",
              "<caption>A tibble: 10 × 4</caption>\n",
              "<thead>\n",
              "\t<tr><th scope=col>numcust</th><th scope=col>TotalCount</th><th scope=col>Sumqty</th><th scope=col>conversordersRatey</th></tr>\n",
              "\t<tr><th scope=col>&lt;chr&gt;</th><th scope=col>&lt;int&gt;</th><th scope=col>&lt;dbl&gt;</th><th scope=col>&lt;int&gt;</th></tr>\n",
              "</thead>\n",
              "<tbody>\n",
              "\t<tr><td>0260002</td><td>2324</td><td>133163.9</td><td> 57</td></tr>\n",
              "\t<tr><td>0040084</td><td>1545</td><td> 26216.0</td><td> 16</td></tr>\n",
              "\t<tr><td>0250040</td><td> 534</td><td> 23146.0</td><td> 43</td></tr>\n",
              "\t<tr><td>0240002</td><td>2680</td><td> 18820.0</td><td>  7</td></tr>\n",
              "\t<tr><td>0020009</td><td>  38</td><td> 17602.0</td><td>463</td></tr>\n",
              "\t<tr><td>0220012</td><td>  51</td><td> 13768.0</td><td>269</td></tr>\n",
              "\t<tr><td>0250102</td><td> 434</td><td> 13723.0</td><td> 31</td></tr>\n",
              "\t<tr><td>0020320</td><td> 764</td><td> 13534.0</td><td> 17</td></tr>\n",
              "\t<tr><td>0040143</td><td> 812</td><td> 13504.0</td><td> 16</td></tr>\n",
              "\t<tr><td>0250345</td><td>  52</td><td> 12559.0</td><td>241</td></tr>\n",
              "</tbody>\n",
              "</table>\n"
            ]
          },
          "metadata": {
            "tags": []
          }
        }
      ]
    },
    {
      "cell_type": "markdown",
      "metadata": {
        "id": "0j4BjWiOTruW"
      },
      "source": [
        "# conversordersRate 哪一個商品單次訂最多\n",
        "conversordersRate which product has the most single order"
      ]
    },
    {
      "cell_type": "code",
      "metadata": {
        "colab": {
          "base_uri": "https://localhost:8080/",
          "height": 395
        },
        "id": "x719sCYyTYyI",
        "outputId": "ee712ebc-0475-48c8-b3ef-32c72c1bebd7"
      },
      "source": [
        "ordersBycust_top10conversordersRatey <- top_n(ordersBycust, 10, Sumqty)  %>% arrange(desc(conversordersRatey))\n",
        "ordersBycust_top10conversordersRatey"
      ],
      "execution_count": null,
      "outputs": [
        {
          "output_type": "display_data",
          "data": {
            "text/plain": [
              "   numcust TotalCount Sumqty   conversordersRatey\n",
              "1  0020009   38        17602.0 463               \n",
              "2  0220012   51        13768.0 269               \n",
              "3  0250345   52        12559.0 241               \n",
              "4  0260002 2324       133163.9  57               \n",
              "5  0250040  534        23146.0  43               \n",
              "6  0250102  434        13723.0  31               \n",
              "7  0020320  764        13534.0  17               \n",
              "8  0040084 1545        26216.0  16               \n",
              "9  0040143  812        13504.0  16               \n",
              "10 0240002 2680        18820.0   7               "
            ],
            "text/latex": "A tibble: 10 × 4\n\\begin{tabular}{llll}\n numcust & TotalCount & Sumqty & conversordersRatey\\\\\n <chr> & <int> & <dbl> & <int>\\\\\n\\hline\n\t 0020009 &   38 &  17602.0 & 463\\\\\n\t 0220012 &   51 &  13768.0 & 269\\\\\n\t 0250345 &   52 &  12559.0 & 241\\\\\n\t 0260002 & 2324 & 133163.9 &  57\\\\\n\t 0250040 &  534 &  23146.0 &  43\\\\\n\t 0250102 &  434 &  13723.0 &  31\\\\\n\t 0020320 &  764 &  13534.0 &  17\\\\\n\t 0040084 & 1545 &  26216.0 &  16\\\\\n\t 0040143 &  812 &  13504.0 &  16\\\\\n\t 0240002 & 2680 &  18820.0 &   7\\\\\n\\end{tabular}\n",
            "text/markdown": "\nA tibble: 10 × 4\n\n| numcust &lt;chr&gt; | TotalCount &lt;int&gt; | Sumqty &lt;dbl&gt; | conversordersRatey &lt;int&gt; |\n|---|---|---|---|\n| 0020009 |   38 |  17602.0 | 463 |\n| 0220012 |   51 |  13768.0 | 269 |\n| 0250345 |   52 |  12559.0 | 241 |\n| 0260002 | 2324 | 133163.9 |  57 |\n| 0250040 |  534 |  23146.0 |  43 |\n| 0250102 |  434 |  13723.0 |  31 |\n| 0020320 |  764 |  13534.0 |  17 |\n| 0040084 | 1545 |  26216.0 |  16 |\n| 0040143 |  812 |  13504.0 |  16 |\n| 0240002 | 2680 |  18820.0 |   7 |\n\n",
            "text/html": [
              "<table class=\"dataframe\">\n",
              "<caption>A tibble: 10 × 4</caption>\n",
              "<thead>\n",
              "\t<tr><th scope=col>numcust</th><th scope=col>TotalCount</th><th scope=col>Sumqty</th><th scope=col>conversordersRatey</th></tr>\n",
              "\t<tr><th scope=col>&lt;chr&gt;</th><th scope=col>&lt;int&gt;</th><th scope=col>&lt;dbl&gt;</th><th scope=col>&lt;int&gt;</th></tr>\n",
              "</thead>\n",
              "<tbody>\n",
              "\t<tr><td>0020009</td><td>  38</td><td> 17602.0</td><td>463</td></tr>\n",
              "\t<tr><td>0220012</td><td>  51</td><td> 13768.0</td><td>269</td></tr>\n",
              "\t<tr><td>0250345</td><td>  52</td><td> 12559.0</td><td>241</td></tr>\n",
              "\t<tr><td>0260002</td><td>2324</td><td>133163.9</td><td> 57</td></tr>\n",
              "\t<tr><td>0250040</td><td> 534</td><td> 23146.0</td><td> 43</td></tr>\n",
              "\t<tr><td>0250102</td><td> 434</td><td> 13723.0</td><td> 31</td></tr>\n",
              "\t<tr><td>0020320</td><td> 764</td><td> 13534.0</td><td> 17</td></tr>\n",
              "\t<tr><td>0040084</td><td>1545</td><td> 26216.0</td><td> 16</td></tr>\n",
              "\t<tr><td>0040143</td><td> 812</td><td> 13504.0</td><td> 16</td></tr>\n",
              "\t<tr><td>0240002</td><td>2680</td><td> 18820.0</td><td>  7</td></tr>\n",
              "</tbody>\n",
              "</table>\n"
            ]
          },
          "metadata": {
            "tags": []
          }
        }
      ]
    },
    {
      "cell_type": "markdown",
      "metadata": {
        "id": "LENAL7LcT-2E"
      },
      "source": [
        "#每季銷售產品排行\n",
        "Quarterly sales product ranking"
      ]
    },
    {
      "cell_type": "code",
      "metadata": {
        "colab": {
          "base_uri": "https://localhost:8080/",
          "height": 612
        },
        "id": "kM_IC2-PT_yB",
        "outputId": "c3e40577-59f5-4607-e21d-3ff1b2169bc9"
      },
      "source": [
        "ordersByitem_season <- orders02 %>% \n",
        "  group_by(NumitemID=itemID, numseason=season) %>%       #group_by小計\n",
        "  summarise(TotalCount=n(), Sumqty=sum(quantityOrder)) %>%  #summarise總計\n",
        "  mutate(conversordersRatey= as.integer(Sumqty/TotalCount)) %>% arrange( desc(Sumqty) )\n",
        "head(ordersByitem_season, 16)"
      ],
      "execution_count": null,
      "outputs": [
        {
          "output_type": "stream",
          "text": [
            "`summarise()` has grouped output by 'NumitemID'. You can override using the `.groups` argument.\n",
            "\n"
          ],
          "name": "stderr"
        },
        {
          "output_type": "display_data",
          "data": {
            "text/plain": [
              "   NumitemID numseason TotalCount Sumqty conversordersRatey\n",
              "1  X5500220  4           3        19200  6400              \n",
              "2  X5500220  2           1         6400  6400              \n",
              "3  E8100029  4           2         6350  3175              \n",
              "4  X2510051  1           4         6000  1500              \n",
              "5  X5500219  4           1         4000  4000              \n",
              "6  ET300493  4           5         3830   766              \n",
              "7  ET300493  2           3         3780  1260              \n",
              "8  ET300493  3           3         3780  1260              \n",
              "9  X5500220  3           1         3200  3200              \n",
              "10 E8300021  4           2         3100  1550              \n",
              "11 X2510051  3           2         3000  1500              \n",
              "12 AZ062656  4           7         2902   414              \n",
              "13 S1000200  4           3         2648   882              \n",
              "14 W0100426  4           1         2600  2600              \n",
              "15 M1020041  1         258         2419     9              \n",
              "16 AZ062494  1           6         2415   402              "
            ],
            "text/latex": "A grouped\\_df: 16 × 5\n\\begin{tabular}{lllll}\n NumitemID & numseason & TotalCount & Sumqty & conversordersRatey\\\\\n <chr> & <dbl> & <int> & <dbl> & <int>\\\\\n\\hline\n\t X5500220 & 4 &   3 & 19200 & 6400\\\\\n\t X5500220 & 2 &   1 &  6400 & 6400\\\\\n\t E8100029 & 4 &   2 &  6350 & 3175\\\\\n\t X2510051 & 1 &   4 &  6000 & 1500\\\\\n\t X5500219 & 4 &   1 &  4000 & 4000\\\\\n\t ET300493 & 4 &   5 &  3830 &  766\\\\\n\t ET300493 & 2 &   3 &  3780 & 1260\\\\\n\t ET300493 & 3 &   3 &  3780 & 1260\\\\\n\t X5500220 & 3 &   1 &  3200 & 3200\\\\\n\t E8300021 & 4 &   2 &  3100 & 1550\\\\\n\t X2510051 & 3 &   2 &  3000 & 1500\\\\\n\t AZ062656 & 4 &   7 &  2902 &  414\\\\\n\t S1000200 & 4 &   3 &  2648 &  882\\\\\n\t W0100426 & 4 &   1 &  2600 & 2600\\\\\n\t M1020041 & 1 & 258 &  2419 &    9\\\\\n\t AZ062494 & 1 &   6 &  2415 &  402\\\\\n\\end{tabular}\n",
            "text/markdown": "\nA grouped_df: 16 × 5\n\n| NumitemID &lt;chr&gt; | numseason &lt;dbl&gt; | TotalCount &lt;int&gt; | Sumqty &lt;dbl&gt; | conversordersRatey &lt;int&gt; |\n|---|---|---|---|---|\n| X5500220 | 4 |   3 | 19200 | 6400 |\n| X5500220 | 2 |   1 |  6400 | 6400 |\n| E8100029 | 4 |   2 |  6350 | 3175 |\n| X2510051 | 1 |   4 |  6000 | 1500 |\n| X5500219 | 4 |   1 |  4000 | 4000 |\n| ET300493 | 4 |   5 |  3830 |  766 |\n| ET300493 | 2 |   3 |  3780 | 1260 |\n| ET300493 | 3 |   3 |  3780 | 1260 |\n| X5500220 | 3 |   1 |  3200 | 3200 |\n| E8300021 | 4 |   2 |  3100 | 1550 |\n| X2510051 | 3 |   2 |  3000 | 1500 |\n| AZ062656 | 4 |   7 |  2902 |  414 |\n| S1000200 | 4 |   3 |  2648 |  882 |\n| W0100426 | 4 |   1 |  2600 | 2600 |\n| M1020041 | 1 | 258 |  2419 |    9 |\n| AZ062494 | 1 |   6 |  2415 |  402 |\n\n",
            "text/html": [
              "<table class=\"dataframe\">\n",
              "<caption>A grouped_df: 16 × 5</caption>\n",
              "<thead>\n",
              "\t<tr><th scope=col>NumitemID</th><th scope=col>numseason</th><th scope=col>TotalCount</th><th scope=col>Sumqty</th><th scope=col>conversordersRatey</th></tr>\n",
              "\t<tr><th scope=col>&lt;chr&gt;</th><th scope=col>&lt;dbl&gt;</th><th scope=col>&lt;int&gt;</th><th scope=col>&lt;dbl&gt;</th><th scope=col>&lt;int&gt;</th></tr>\n",
              "</thead>\n",
              "<tbody>\n",
              "\t<tr><td>X5500220</td><td>4</td><td>  3</td><td>19200</td><td>6400</td></tr>\n",
              "\t<tr><td>X5500220</td><td>2</td><td>  1</td><td> 6400</td><td>6400</td></tr>\n",
              "\t<tr><td>E8100029</td><td>4</td><td>  2</td><td> 6350</td><td>3175</td></tr>\n",
              "\t<tr><td>X2510051</td><td>1</td><td>  4</td><td> 6000</td><td>1500</td></tr>\n",
              "\t<tr><td>X5500219</td><td>4</td><td>  1</td><td> 4000</td><td>4000</td></tr>\n",
              "\t<tr><td>ET300493</td><td>4</td><td>  5</td><td> 3830</td><td> 766</td></tr>\n",
              "\t<tr><td>ET300493</td><td>2</td><td>  3</td><td> 3780</td><td>1260</td></tr>\n",
              "\t<tr><td>ET300493</td><td>3</td><td>  3</td><td> 3780</td><td>1260</td></tr>\n",
              "\t<tr><td>X5500220</td><td>3</td><td>  1</td><td> 3200</td><td>3200</td></tr>\n",
              "\t<tr><td>E8300021</td><td>4</td><td>  2</td><td> 3100</td><td>1550</td></tr>\n",
              "\t<tr><td>X2510051</td><td>3</td><td>  2</td><td> 3000</td><td>1500</td></tr>\n",
              "\t<tr><td>AZ062656</td><td>4</td><td>  7</td><td> 2902</td><td> 414</td></tr>\n",
              "\t<tr><td>S1000200</td><td>4</td><td>  3</td><td> 2648</td><td> 882</td></tr>\n",
              "\t<tr><td>W0100426</td><td>4</td><td>  1</td><td> 2600</td><td>2600</td></tr>\n",
              "\t<tr><td>M1020041</td><td>1</td><td>258</td><td> 2419</td><td>   9</td></tr>\n",
              "\t<tr><td>AZ062494</td><td>1</td><td>  6</td><td> 2415</td><td> 402</td></tr>\n",
              "</tbody>\n",
              "</table>\n"
            ]
          },
          "metadata": {
            "tags": []
          }
        }
      ]
    },
    {
      "cell_type": "markdown",
      "metadata": {
        "id": "r_8REPCFVXu2"
      },
      "source": [
        "#篩選各季季 依據 Sumqty 排序\n",
        "Filter each season Sort by Sumqty"
      ]
    },
    {
      "cell_type": "code",
      "metadata": {
        "colab": {
          "base_uri": "https://localhost:8080/",
          "height": 395
        },
        "id": "34D1Vm7KVbAc",
        "outputId": "b09c48f6-3b85-47d3-8447-d6084a8093bf"
      },
      "source": [
        "ordersByseason1<-filter(ordersByitem_season,numseason==1)  #篩選第1季\n",
        "ordersByseason1_top10 <- top_n(ordersByseason1, 10, Sumqty) %>% arrange(desc(Sumqty)) \n",
        "head(ordersByseason1_top10, n = 10)"
      ],
      "execution_count": null,
      "outputs": [
        {
          "output_type": "display_data",
          "data": {
            "text/plain": [
              "   NumitemID numseason TotalCount Sumqty conversordersRatey\n",
              "1  X2510051  1           4        6000   1500              \n",
              "2  M1020041  1         258        2419      9              \n",
              "3  AZ062494  1           6        2415    402              \n",
              "4  AZ064562  1           9        2347    260              \n",
              "5  X2B00160  1           1        2250   2250              \n",
              "6  EB000241  1           3        2200    733              \n",
              "7  AZ064750  1           8        1893    236              \n",
              "8  W0100428  1           1        1400   1400              \n",
              "9  W0100449  1          48        1375     28              \n",
              "10 AZ500061  1          71        1344     18              "
            ],
            "text/latex": "A grouped\\_df: 10 × 5\n\\begin{tabular}{lllll}\n NumitemID & numseason & TotalCount & Sumqty & conversordersRatey\\\\\n <chr> & <dbl> & <int> & <dbl> & <int>\\\\\n\\hline\n\t X2510051 & 1 &   4 & 6000 & 1500\\\\\n\t M1020041 & 1 & 258 & 2419 &    9\\\\\n\t AZ062494 & 1 &   6 & 2415 &  402\\\\\n\t AZ064562 & 1 &   9 & 2347 &  260\\\\\n\t X2B00160 & 1 &   1 & 2250 & 2250\\\\\n\t EB000241 & 1 &   3 & 2200 &  733\\\\\n\t AZ064750 & 1 &   8 & 1893 &  236\\\\\n\t W0100428 & 1 &   1 & 1400 & 1400\\\\\n\t W0100449 & 1 &  48 & 1375 &   28\\\\\n\t AZ500061 & 1 &  71 & 1344 &   18\\\\\n\\end{tabular}\n",
            "text/markdown": "\nA grouped_df: 10 × 5\n\n| NumitemID &lt;chr&gt; | numseason &lt;dbl&gt; | TotalCount &lt;int&gt; | Sumqty &lt;dbl&gt; | conversordersRatey &lt;int&gt; |\n|---|---|---|---|---|\n| X2510051 | 1 |   4 | 6000 | 1500 |\n| M1020041 | 1 | 258 | 2419 |    9 |\n| AZ062494 | 1 |   6 | 2415 |  402 |\n| AZ064562 | 1 |   9 | 2347 |  260 |\n| X2B00160 | 1 |   1 | 2250 | 2250 |\n| EB000241 | 1 |   3 | 2200 |  733 |\n| AZ064750 | 1 |   8 | 1893 |  236 |\n| W0100428 | 1 |   1 | 1400 | 1400 |\n| W0100449 | 1 |  48 | 1375 |   28 |\n| AZ500061 | 1 |  71 | 1344 |   18 |\n\n",
            "text/html": [
              "<table class=\"dataframe\">\n",
              "<caption>A grouped_df: 10 × 5</caption>\n",
              "<thead>\n",
              "\t<tr><th scope=col>NumitemID</th><th scope=col>numseason</th><th scope=col>TotalCount</th><th scope=col>Sumqty</th><th scope=col>conversordersRatey</th></tr>\n",
              "\t<tr><th scope=col>&lt;chr&gt;</th><th scope=col>&lt;dbl&gt;</th><th scope=col>&lt;int&gt;</th><th scope=col>&lt;dbl&gt;</th><th scope=col>&lt;int&gt;</th></tr>\n",
              "</thead>\n",
              "<tbody>\n",
              "\t<tr><td>X2510051</td><td>1</td><td>  4</td><td>6000</td><td>1500</td></tr>\n",
              "\t<tr><td>M1020041</td><td>1</td><td>258</td><td>2419</td><td>   9</td></tr>\n",
              "\t<tr><td>AZ062494</td><td>1</td><td>  6</td><td>2415</td><td> 402</td></tr>\n",
              "\t<tr><td>AZ064562</td><td>1</td><td>  9</td><td>2347</td><td> 260</td></tr>\n",
              "\t<tr><td>X2B00160</td><td>1</td><td>  1</td><td>2250</td><td>2250</td></tr>\n",
              "\t<tr><td>EB000241</td><td>1</td><td>  3</td><td>2200</td><td> 733</td></tr>\n",
              "\t<tr><td>AZ064750</td><td>1</td><td>  8</td><td>1893</td><td> 236</td></tr>\n",
              "\t<tr><td>W0100428</td><td>1</td><td>  1</td><td>1400</td><td>1400</td></tr>\n",
              "\t<tr><td>W0100449</td><td>1</td><td> 48</td><td>1375</td><td>  28</td></tr>\n",
              "\t<tr><td>AZ500061</td><td>1</td><td> 71</td><td>1344</td><td>  18</td></tr>\n",
              "</tbody>\n",
              "</table>\n"
            ]
          },
          "metadata": {
            "tags": []
          }
        }
      ]
    },
    {
      "cell_type": "code",
      "metadata": {
        "colab": {
          "base_uri": "https://localhost:8080/",
          "height": 395
        },
        "id": "lfnXnd4PWy7O",
        "outputId": "470d8eb5-ac72-4f4e-b807-0035dc0387e9"
      },
      "source": [
        "ordersByseason2<-filter(ordersByitem_season,numseason==2)#篩選第2季\n",
        "ordersByseason2_top10 <- top_n(ordersByseason2, 10, Sumqty)  %>% arrange(desc(Sumqty))\n",
        "head(ordersByseason2_top10, n=10)"
      ],
      "execution_count": null,
      "outputs": [
        {
          "output_type": "display_data",
          "data": {
            "text/plain": [
              "   NumitemID numseason TotalCount Sumqty conversordersRatey\n",
              "1  X5500220  2           1        6400   6400              \n",
              "2  ET300493  2           3        3780   1260              \n",
              "3  M1020041  2         239        2160      9              \n",
              "4  GAZ00002  2           5        2015    403              \n",
              "5  AZ064750  2           5        1761    352              \n",
              "6  AZ064019  2          56        1518     27              \n",
              "7  W0100449  2          42        1315     31              \n",
              "8  AZ062656  2           7        1262    180              \n",
              "9  AZ500061  2          66        1258     19              \n",
              "10 EB000241  2           2        1200    600              "
            ],
            "text/latex": "A grouped\\_df: 10 × 5\n\\begin{tabular}{lllll}\n NumitemID & numseason & TotalCount & Sumqty & conversordersRatey\\\\\n <chr> & <dbl> & <int> & <dbl> & <int>\\\\\n\\hline\n\t X5500220 & 2 &   1 & 6400 & 6400\\\\\n\t ET300493 & 2 &   3 & 3780 & 1260\\\\\n\t M1020041 & 2 & 239 & 2160 &    9\\\\\n\t GAZ00002 & 2 &   5 & 2015 &  403\\\\\n\t AZ064750 & 2 &   5 & 1761 &  352\\\\\n\t AZ064019 & 2 &  56 & 1518 &   27\\\\\n\t W0100449 & 2 &  42 & 1315 &   31\\\\\n\t AZ062656 & 2 &   7 & 1262 &  180\\\\\n\t AZ500061 & 2 &  66 & 1258 &   19\\\\\n\t EB000241 & 2 &   2 & 1200 &  600\\\\\n\\end{tabular}\n",
            "text/markdown": "\nA grouped_df: 10 × 5\n\n| NumitemID &lt;chr&gt; | numseason &lt;dbl&gt; | TotalCount &lt;int&gt; | Sumqty &lt;dbl&gt; | conversordersRatey &lt;int&gt; |\n|---|---|---|---|---|\n| X5500220 | 2 |   1 | 6400 | 6400 |\n| ET300493 | 2 |   3 | 3780 | 1260 |\n| M1020041 | 2 | 239 | 2160 |    9 |\n| GAZ00002 | 2 |   5 | 2015 |  403 |\n| AZ064750 | 2 |   5 | 1761 |  352 |\n| AZ064019 | 2 |  56 | 1518 |   27 |\n| W0100449 | 2 |  42 | 1315 |   31 |\n| AZ062656 | 2 |   7 | 1262 |  180 |\n| AZ500061 | 2 |  66 | 1258 |   19 |\n| EB000241 | 2 |   2 | 1200 |  600 |\n\n",
            "text/html": [
              "<table class=\"dataframe\">\n",
              "<caption>A grouped_df: 10 × 5</caption>\n",
              "<thead>\n",
              "\t<tr><th scope=col>NumitemID</th><th scope=col>numseason</th><th scope=col>TotalCount</th><th scope=col>Sumqty</th><th scope=col>conversordersRatey</th></tr>\n",
              "\t<tr><th scope=col>&lt;chr&gt;</th><th scope=col>&lt;dbl&gt;</th><th scope=col>&lt;int&gt;</th><th scope=col>&lt;dbl&gt;</th><th scope=col>&lt;int&gt;</th></tr>\n",
              "</thead>\n",
              "<tbody>\n",
              "\t<tr><td>X5500220</td><td>2</td><td>  1</td><td>6400</td><td>6400</td></tr>\n",
              "\t<tr><td>ET300493</td><td>2</td><td>  3</td><td>3780</td><td>1260</td></tr>\n",
              "\t<tr><td>M1020041</td><td>2</td><td>239</td><td>2160</td><td>   9</td></tr>\n",
              "\t<tr><td>GAZ00002</td><td>2</td><td>  5</td><td>2015</td><td> 403</td></tr>\n",
              "\t<tr><td>AZ064750</td><td>2</td><td>  5</td><td>1761</td><td> 352</td></tr>\n",
              "\t<tr><td>AZ064019</td><td>2</td><td> 56</td><td>1518</td><td>  27</td></tr>\n",
              "\t<tr><td>W0100449</td><td>2</td><td> 42</td><td>1315</td><td>  31</td></tr>\n",
              "\t<tr><td>AZ062656</td><td>2</td><td>  7</td><td>1262</td><td> 180</td></tr>\n",
              "\t<tr><td>AZ500061</td><td>2</td><td> 66</td><td>1258</td><td>  19</td></tr>\n",
              "\t<tr><td>EB000241</td><td>2</td><td>  2</td><td>1200</td><td> 600</td></tr>\n",
              "</tbody>\n",
              "</table>\n"
            ]
          },
          "metadata": {
            "tags": []
          }
        }
      ]
    },
    {
      "cell_type": "code",
      "metadata": {
        "colab": {
          "base_uri": "https://localhost:8080/",
          "height": 395
        },
        "id": "gm7jHDWZW1y6",
        "outputId": "c9fa5c03-cec5-4276-e7cb-384ffc86b362"
      },
      "source": [
        "ordersByseason3<-filter(ordersByitem_season,numseason==3)#篩選第3季\n",
        "ordersByseason3_top10 <- top_n(ordersByseason3, 10, Sumqty)  %>% arrange(desc(Sumqty))\n",
        "head(ordersByseason3_top10, n= 10)"
      ],
      "execution_count": null,
      "outputs": [
        {
          "output_type": "display_data",
          "data": {
            "text/plain": [
              "   NumitemID numseason TotalCount Sumqty conversordersRatey\n",
              "1  ET300493  3           3        3780   1260              \n",
              "2  X5500220  3           1        3200   3200              \n",
              "3  X2510051  3           2        3000   1500              \n",
              "4  M1020041  3         229        2228      9              \n",
              "5  W0100501  3          82        1047     12              \n",
              "6  EB000241  3           1        1000   1000              \n",
              "7  X4600545  3           1        1000   1000              \n",
              "8  AZ500061  3          56         981     17              \n",
              "9  AZ064750  3           4         962    240              \n",
              "10 AZ064562  3           3         960    320              "
            ],
            "text/latex": "A grouped\\_df: 10 × 5\n\\begin{tabular}{lllll}\n NumitemID & numseason & TotalCount & Sumqty & conversordersRatey\\\\\n <chr> & <dbl> & <int> & <dbl> & <int>\\\\\n\\hline\n\t ET300493 & 3 &   3 & 3780 & 1260\\\\\n\t X5500220 & 3 &   1 & 3200 & 3200\\\\\n\t X2510051 & 3 &   2 & 3000 & 1500\\\\\n\t M1020041 & 3 & 229 & 2228 &    9\\\\\n\t W0100501 & 3 &  82 & 1047 &   12\\\\\n\t EB000241 & 3 &   1 & 1000 & 1000\\\\\n\t X4600545 & 3 &   1 & 1000 & 1000\\\\\n\t AZ500061 & 3 &  56 &  981 &   17\\\\\n\t AZ064750 & 3 &   4 &  962 &  240\\\\\n\t AZ064562 & 3 &   3 &  960 &  320\\\\\n\\end{tabular}\n",
            "text/markdown": "\nA grouped_df: 10 × 5\n\n| NumitemID &lt;chr&gt; | numseason &lt;dbl&gt; | TotalCount &lt;int&gt; | Sumqty &lt;dbl&gt; | conversordersRatey &lt;int&gt; |\n|---|---|---|---|---|\n| ET300493 | 3 |   3 | 3780 | 1260 |\n| X5500220 | 3 |   1 | 3200 | 3200 |\n| X2510051 | 3 |   2 | 3000 | 1500 |\n| M1020041 | 3 | 229 | 2228 |    9 |\n| W0100501 | 3 |  82 | 1047 |   12 |\n| EB000241 | 3 |   1 | 1000 | 1000 |\n| X4600545 | 3 |   1 | 1000 | 1000 |\n| AZ500061 | 3 |  56 |  981 |   17 |\n| AZ064750 | 3 |   4 |  962 |  240 |\n| AZ064562 | 3 |   3 |  960 |  320 |\n\n",
            "text/html": [
              "<table class=\"dataframe\">\n",
              "<caption>A grouped_df: 10 × 5</caption>\n",
              "<thead>\n",
              "\t<tr><th scope=col>NumitemID</th><th scope=col>numseason</th><th scope=col>TotalCount</th><th scope=col>Sumqty</th><th scope=col>conversordersRatey</th></tr>\n",
              "\t<tr><th scope=col>&lt;chr&gt;</th><th scope=col>&lt;dbl&gt;</th><th scope=col>&lt;int&gt;</th><th scope=col>&lt;dbl&gt;</th><th scope=col>&lt;int&gt;</th></tr>\n",
              "</thead>\n",
              "<tbody>\n",
              "\t<tr><td>ET300493</td><td>3</td><td>  3</td><td>3780</td><td>1260</td></tr>\n",
              "\t<tr><td>X5500220</td><td>3</td><td>  1</td><td>3200</td><td>3200</td></tr>\n",
              "\t<tr><td>X2510051</td><td>3</td><td>  2</td><td>3000</td><td>1500</td></tr>\n",
              "\t<tr><td>M1020041</td><td>3</td><td>229</td><td>2228</td><td>   9</td></tr>\n",
              "\t<tr><td>W0100501</td><td>3</td><td> 82</td><td>1047</td><td>  12</td></tr>\n",
              "\t<tr><td>EB000241</td><td>3</td><td>  1</td><td>1000</td><td>1000</td></tr>\n",
              "\t<tr><td>X4600545</td><td>3</td><td>  1</td><td>1000</td><td>1000</td></tr>\n",
              "\t<tr><td>AZ500061</td><td>3</td><td> 56</td><td> 981</td><td>  17</td></tr>\n",
              "\t<tr><td>AZ064750</td><td>3</td><td>  4</td><td> 962</td><td> 240</td></tr>\n",
              "\t<tr><td>AZ064562</td><td>3</td><td>  3</td><td> 960</td><td> 320</td></tr>\n",
              "</tbody>\n",
              "</table>\n"
            ]
          },
          "metadata": {
            "tags": []
          }
        }
      ]
    },
    {
      "cell_type": "code",
      "metadata": {
        "colab": {
          "base_uri": "https://localhost:8080/",
          "height": 395
        },
        "id": "6jXk27GnW47s",
        "outputId": "be939135-632f-48a0-9c4e-46a580bff78b"
      },
      "source": [
        "ordersByseason4<-filter(ordersByitem_season,numseason==4)#篩選第4季\n",
        "ordersByseason4_top10 <- top_n(ordersByseason4, 10, Sumqty)  %>% arrange(desc(Sumqty))\n",
        "head(ordersByseason4_top10, n= 10)"
      ],
      "execution_count": null,
      "outputs": [
        {
          "output_type": "display_data",
          "data": {
            "text/plain": [
              "   NumitemID numseason TotalCount Sumqty conversordersRatey\n",
              "1  X5500220  4           3        19200  6400              \n",
              "2  E8100029  4           2         6350  3175              \n",
              "3  X5500219  4           1         4000  4000              \n",
              "4  ET300493  4           5         3830   766              \n",
              "5  E8300021  4           2         3100  1550              \n",
              "6  AZ062656  4           7         2902   414              \n",
              "7  S1000200  4           3         2648   882              \n",
              "8  W0100426  4           1         2600  2600              \n",
              "9  M1020041  4         212         2164    10              \n",
              "10 M3000471  4           1         2000  2000              "
            ],
            "text/latex": "A grouped\\_df: 10 × 5\n\\begin{tabular}{lllll}\n NumitemID & numseason & TotalCount & Sumqty & conversordersRatey\\\\\n <chr> & <dbl> & <int> & <dbl> & <int>\\\\\n\\hline\n\t X5500220 & 4 &   3 & 19200 & 6400\\\\\n\t E8100029 & 4 &   2 &  6350 & 3175\\\\\n\t X5500219 & 4 &   1 &  4000 & 4000\\\\\n\t ET300493 & 4 &   5 &  3830 &  766\\\\\n\t E8300021 & 4 &   2 &  3100 & 1550\\\\\n\t AZ062656 & 4 &   7 &  2902 &  414\\\\\n\t S1000200 & 4 &   3 &  2648 &  882\\\\\n\t W0100426 & 4 &   1 &  2600 & 2600\\\\\n\t M1020041 & 4 & 212 &  2164 &   10\\\\\n\t M3000471 & 4 &   1 &  2000 & 2000\\\\\n\\end{tabular}\n",
            "text/markdown": "\nA grouped_df: 10 × 5\n\n| NumitemID &lt;chr&gt; | numseason &lt;dbl&gt; | TotalCount &lt;int&gt; | Sumqty &lt;dbl&gt; | conversordersRatey &lt;int&gt; |\n|---|---|---|---|---|\n| X5500220 | 4 |   3 | 19200 | 6400 |\n| E8100029 | 4 |   2 |  6350 | 3175 |\n| X5500219 | 4 |   1 |  4000 | 4000 |\n| ET300493 | 4 |   5 |  3830 |  766 |\n| E8300021 | 4 |   2 |  3100 | 1550 |\n| AZ062656 | 4 |   7 |  2902 |  414 |\n| S1000200 | 4 |   3 |  2648 |  882 |\n| W0100426 | 4 |   1 |  2600 | 2600 |\n| M1020041 | 4 | 212 |  2164 |   10 |\n| M3000471 | 4 |   1 |  2000 | 2000 |\n\n",
            "text/html": [
              "<table class=\"dataframe\">\n",
              "<caption>A grouped_df: 10 × 5</caption>\n",
              "<thead>\n",
              "\t<tr><th scope=col>NumitemID</th><th scope=col>numseason</th><th scope=col>TotalCount</th><th scope=col>Sumqty</th><th scope=col>conversordersRatey</th></tr>\n",
              "\t<tr><th scope=col>&lt;chr&gt;</th><th scope=col>&lt;dbl&gt;</th><th scope=col>&lt;int&gt;</th><th scope=col>&lt;dbl&gt;</th><th scope=col>&lt;int&gt;</th></tr>\n",
              "</thead>\n",
              "<tbody>\n",
              "\t<tr><td>X5500220</td><td>4</td><td>  3</td><td>19200</td><td>6400</td></tr>\n",
              "\t<tr><td>E8100029</td><td>4</td><td>  2</td><td> 6350</td><td>3175</td></tr>\n",
              "\t<tr><td>X5500219</td><td>4</td><td>  1</td><td> 4000</td><td>4000</td></tr>\n",
              "\t<tr><td>ET300493</td><td>4</td><td>  5</td><td> 3830</td><td> 766</td></tr>\n",
              "\t<tr><td>E8300021</td><td>4</td><td>  2</td><td> 3100</td><td>1550</td></tr>\n",
              "\t<tr><td>AZ062656</td><td>4</td><td>  7</td><td> 2902</td><td> 414</td></tr>\n",
              "\t<tr><td>S1000200</td><td>4</td><td>  3</td><td> 2648</td><td> 882</td></tr>\n",
              "\t<tr><td>W0100426</td><td>4</td><td>  1</td><td> 2600</td><td>2600</td></tr>\n",
              "\t<tr><td>M1020041</td><td>4</td><td>212</td><td> 2164</td><td>  10</td></tr>\n",
              "\t<tr><td>M3000471</td><td>4</td><td>  1</td><td> 2000</td><td>2000</td></tr>\n",
              "</tbody>\n",
              "</table>\n"
            ]
          },
          "metadata": {
            "tags": []
          }
        }
      ]
    },
    {
      "cell_type": "markdown",
      "metadata": {
        "id": "WpqxqO4QXgjE"
      },
      "source": [
        "#篩選各季 依據 conversordersRatey 排序\n",
        "Filter each season Sort by conversordersRatey"
      ]
    },
    {
      "cell_type": "code",
      "metadata": {
        "colab": {
          "base_uri": "https://localhost:8080/",
          "height": 395
        },
        "id": "HZ69NtmJXs70",
        "outputId": "2b8e27c9-9ac3-47a3-a375-5026f4eaccc1"
      },
      "source": [
        "ordersByseason1<-filter(ordersByitem_season,numseason==1)#篩選第1季 conversordersRatey 排序\n",
        "ordersByseason1_top10 <- top_n(ordersByseason1, 10, Sumqty)  %>% arrange(desc(conversordersRatey))\n",
        "head(ordersByseason1_top10, n= 10)"
      ],
      "execution_count": null,
      "outputs": [
        {
          "output_type": "display_data",
          "data": {
            "text/plain": [
              "   NumitemID numseason TotalCount Sumqty conversordersRatey\n",
              "1  X2B00160  1         1          2250   2250              \n",
              "2  X2510051  1         4          6000   1500              \n",
              "3  W0100428  1         1          1400   1400              \n",
              "4  S1000176  1         1          1000   1000              \n",
              "5  S2000087  1         1          1000   1000              \n",
              "6  S4000025  1         1          1000   1000              \n",
              "7  X2600049  1         1          1000   1000              \n",
              "8  EB000241  1         3          2200    733              \n",
              "9  AZ062656  1         2          1200    600              \n",
              "10 ET300493  1         1           420    420              "
            ],
            "text/latex": "A grouped\\_df: 10 × 5\n\\begin{tabular}{lllll}\n NumitemID & numseason & TotalCount & Sumqty & conversordersRatey\\\\\n <chr> & <dbl> & <int> & <dbl> & <int>\\\\\n\\hline\n\t X2B00160 & 1 & 1 & 2250 & 2250\\\\\n\t X2510051 & 1 & 4 & 6000 & 1500\\\\\n\t W0100428 & 1 & 1 & 1400 & 1400\\\\\n\t S1000176 & 1 & 1 & 1000 & 1000\\\\\n\t S2000087 & 1 & 1 & 1000 & 1000\\\\\n\t S4000025 & 1 & 1 & 1000 & 1000\\\\\n\t X2600049 & 1 & 1 & 1000 & 1000\\\\\n\t EB000241 & 1 & 3 & 2200 &  733\\\\\n\t AZ062656 & 1 & 2 & 1200 &  600\\\\\n\t ET300493 & 1 & 1 &  420 &  420\\\\\n\\end{tabular}\n",
            "text/markdown": "\nA grouped_df: 10 × 5\n\n| NumitemID &lt;chr&gt; | numseason &lt;dbl&gt; | TotalCount &lt;int&gt; | Sumqty &lt;dbl&gt; | conversordersRatey &lt;int&gt; |\n|---|---|---|---|---|\n| X2B00160 | 1 | 1 | 2250 | 2250 |\n| X2510051 | 1 | 4 | 6000 | 1500 |\n| W0100428 | 1 | 1 | 1400 | 1400 |\n| S1000176 | 1 | 1 | 1000 | 1000 |\n| S2000087 | 1 | 1 | 1000 | 1000 |\n| S4000025 | 1 | 1 | 1000 | 1000 |\n| X2600049 | 1 | 1 | 1000 | 1000 |\n| EB000241 | 1 | 3 | 2200 |  733 |\n| AZ062656 | 1 | 2 | 1200 |  600 |\n| ET300493 | 1 | 1 |  420 |  420 |\n\n",
            "text/html": [
              "<table class=\"dataframe\">\n",
              "<caption>A grouped_df: 10 × 5</caption>\n",
              "<thead>\n",
              "\t<tr><th scope=col>NumitemID</th><th scope=col>numseason</th><th scope=col>TotalCount</th><th scope=col>Sumqty</th><th scope=col>conversordersRatey</th></tr>\n",
              "\t<tr><th scope=col>&lt;chr&gt;</th><th scope=col>&lt;dbl&gt;</th><th scope=col>&lt;int&gt;</th><th scope=col>&lt;dbl&gt;</th><th scope=col>&lt;int&gt;</th></tr>\n",
              "</thead>\n",
              "<tbody>\n",
              "\t<tr><td>X2B00160</td><td>1</td><td>1</td><td>2250</td><td>2250</td></tr>\n",
              "\t<tr><td>X2510051</td><td>1</td><td>4</td><td>6000</td><td>1500</td></tr>\n",
              "\t<tr><td>W0100428</td><td>1</td><td>1</td><td>1400</td><td>1400</td></tr>\n",
              "\t<tr><td>S1000176</td><td>1</td><td>1</td><td>1000</td><td>1000</td></tr>\n",
              "\t<tr><td>S2000087</td><td>1</td><td>1</td><td>1000</td><td>1000</td></tr>\n",
              "\t<tr><td>S4000025</td><td>1</td><td>1</td><td>1000</td><td>1000</td></tr>\n",
              "\t<tr><td>X2600049</td><td>1</td><td>1</td><td>1000</td><td>1000</td></tr>\n",
              "\t<tr><td>EB000241</td><td>1</td><td>3</td><td>2200</td><td> 733</td></tr>\n",
              "\t<tr><td>AZ062656</td><td>1</td><td>2</td><td>1200</td><td> 600</td></tr>\n",
              "\t<tr><td>ET300493</td><td>1</td><td>1</td><td> 420</td><td> 420</td></tr>\n",
              "</tbody>\n",
              "</table>\n"
            ]
          },
          "metadata": {
            "tags": []
          }
        }
      ]
    },
    {
      "cell_type": "code",
      "metadata": {
        "colab": {
          "base_uri": "https://localhost:8080/",
          "height": 395
        },
        "id": "CMO7pGQeX4-w",
        "outputId": "b789fe94-43eb-4b30-f87e-54dddbbb0dd3"
      },
      "source": [
        "ordersByseason2<-filter(ordersByitem_season,numseason==2)#篩選第2季 conversordersRatey 排序\n",
        "ordersByseason2_top10 <- top_n(ordersByseason2, 10, Sumqty)  %>% arrange(desc(conversordersRatey))\n",
        "head(ordersByseason2_top10, n=10)"
      ],
      "execution_count": null,
      "outputs": [
        {
          "output_type": "display_data",
          "data": {
            "text/plain": [
              "   NumitemID numseason TotalCount Sumqty conversordersRatey\n",
              "1  X5500220  2         1          6400   6400              \n",
              "2  ET300493  2         3          3780   1260              \n",
              "3  X2510051  2         1          1174   1174              \n",
              "4  E8100029  2         1          1100   1100              \n",
              "5  R2000487  2         1          1100   1100              \n",
              "6  R2000736  2         1          1100   1100              \n",
              "7  S1000200  2         1          1000   1000              \n",
              "8  CD100117  2         1           807    807              \n",
              "9  X2B00160  2         1           700    700              \n",
              "10 EB000241  2         2          1200    600              "
            ],
            "text/latex": "A grouped\\_df: 10 × 5\n\\begin{tabular}{lllll}\n NumitemID & numseason & TotalCount & Sumqty & conversordersRatey\\\\\n <chr> & <dbl> & <int> & <dbl> & <int>\\\\\n\\hline\n\t X5500220 & 2 & 1 & 6400 & 6400\\\\\n\t ET300493 & 2 & 3 & 3780 & 1260\\\\\n\t X2510051 & 2 & 1 & 1174 & 1174\\\\\n\t E8100029 & 2 & 1 & 1100 & 1100\\\\\n\t R2000487 & 2 & 1 & 1100 & 1100\\\\\n\t R2000736 & 2 & 1 & 1100 & 1100\\\\\n\t S1000200 & 2 & 1 & 1000 & 1000\\\\\n\t CD100117 & 2 & 1 &  807 &  807\\\\\n\t X2B00160 & 2 & 1 &  700 &  700\\\\\n\t EB000241 & 2 & 2 & 1200 &  600\\\\\n\\end{tabular}\n",
            "text/markdown": "\nA grouped_df: 10 × 5\n\n| NumitemID &lt;chr&gt; | numseason &lt;dbl&gt; | TotalCount &lt;int&gt; | Sumqty &lt;dbl&gt; | conversordersRatey &lt;int&gt; |\n|---|---|---|---|---|\n| X5500220 | 2 | 1 | 6400 | 6400 |\n| ET300493 | 2 | 3 | 3780 | 1260 |\n| X2510051 | 2 | 1 | 1174 | 1174 |\n| E8100029 | 2 | 1 | 1100 | 1100 |\n| R2000487 | 2 | 1 | 1100 | 1100 |\n| R2000736 | 2 | 1 | 1100 | 1100 |\n| S1000200 | 2 | 1 | 1000 | 1000 |\n| CD100117 | 2 | 1 |  807 |  807 |\n| X2B00160 | 2 | 1 |  700 |  700 |\n| EB000241 | 2 | 2 | 1200 |  600 |\n\n",
            "text/html": [
              "<table class=\"dataframe\">\n",
              "<caption>A grouped_df: 10 × 5</caption>\n",
              "<thead>\n",
              "\t<tr><th scope=col>NumitemID</th><th scope=col>numseason</th><th scope=col>TotalCount</th><th scope=col>Sumqty</th><th scope=col>conversordersRatey</th></tr>\n",
              "\t<tr><th scope=col>&lt;chr&gt;</th><th scope=col>&lt;dbl&gt;</th><th scope=col>&lt;int&gt;</th><th scope=col>&lt;dbl&gt;</th><th scope=col>&lt;int&gt;</th></tr>\n",
              "</thead>\n",
              "<tbody>\n",
              "\t<tr><td>X5500220</td><td>2</td><td>1</td><td>6400</td><td>6400</td></tr>\n",
              "\t<tr><td>ET300493</td><td>2</td><td>3</td><td>3780</td><td>1260</td></tr>\n",
              "\t<tr><td>X2510051</td><td>2</td><td>1</td><td>1174</td><td>1174</td></tr>\n",
              "\t<tr><td>E8100029</td><td>2</td><td>1</td><td>1100</td><td>1100</td></tr>\n",
              "\t<tr><td>R2000487</td><td>2</td><td>1</td><td>1100</td><td>1100</td></tr>\n",
              "\t<tr><td>R2000736</td><td>2</td><td>1</td><td>1100</td><td>1100</td></tr>\n",
              "\t<tr><td>S1000200</td><td>2</td><td>1</td><td>1000</td><td>1000</td></tr>\n",
              "\t<tr><td>CD100117</td><td>2</td><td>1</td><td> 807</td><td> 807</td></tr>\n",
              "\t<tr><td>X2B00160</td><td>2</td><td>1</td><td> 700</td><td> 700</td></tr>\n",
              "\t<tr><td>EB000241</td><td>2</td><td>2</td><td>1200</td><td> 600</td></tr>\n",
              "</tbody>\n",
              "</table>\n"
            ]
          },
          "metadata": {
            "tags": []
          }
        }
      ]
    },
    {
      "cell_type": "code",
      "metadata": {
        "colab": {
          "base_uri": "https://localhost:8080/",
          "height": 395
        },
        "id": "0Wy6qVT3YBTN",
        "outputId": "09f353c6-2a8c-4437-a688-b0c840352022"
      },
      "source": [
        "ordersByseason3<-filter(ordersByitem_season,numseason==3)#篩選第3季 conversordersRatey 排序\n",
        "ordersByseason3_top10 <- top_n(ordersByseason3, 10, Sumqty)  %>% arrange(desc(conversordersRatey))\n",
        "head(ordersByseason3_top10, n= 10)"
      ],
      "execution_count": null,
      "outputs": [
        {
          "output_type": "display_data",
          "data": {
            "text/plain": [
              "   NumitemID numseason TotalCount Sumqty conversordersRatey\n",
              "1  X5500220  3         1          3200   3200              \n",
              "2  X2510051  3         2          3000   1500              \n",
              "3  ET300493  3         3          3780   1260              \n",
              "4  EB000241  3         1          1000   1000              \n",
              "5  X4600545  3         1          1000   1000              \n",
              "6  ET300500  3         1           840    840              \n",
              "7  R2100015  3         1           800    800              \n",
              "8  R0000003  3         1           600    600              \n",
              "9  X2500201  3         1           600    600              \n",
              "10 S1000196  3         1           500    500              "
            ],
            "text/latex": "A grouped\\_df: 10 × 5\n\\begin{tabular}{lllll}\n NumitemID & numseason & TotalCount & Sumqty & conversordersRatey\\\\\n <chr> & <dbl> & <int> & <dbl> & <int>\\\\\n\\hline\n\t X5500220 & 3 & 1 & 3200 & 3200\\\\\n\t X2510051 & 3 & 2 & 3000 & 1500\\\\\n\t ET300493 & 3 & 3 & 3780 & 1260\\\\\n\t EB000241 & 3 & 1 & 1000 & 1000\\\\\n\t X4600545 & 3 & 1 & 1000 & 1000\\\\\n\t ET300500 & 3 & 1 &  840 &  840\\\\\n\t R2100015 & 3 & 1 &  800 &  800\\\\\n\t R0000003 & 3 & 1 &  600 &  600\\\\\n\t X2500201 & 3 & 1 &  600 &  600\\\\\n\t S1000196 & 3 & 1 &  500 &  500\\\\\n\\end{tabular}\n",
            "text/markdown": "\nA grouped_df: 10 × 5\n\n| NumitemID &lt;chr&gt; | numseason &lt;dbl&gt; | TotalCount &lt;int&gt; | Sumqty &lt;dbl&gt; | conversordersRatey &lt;int&gt; |\n|---|---|---|---|---|\n| X5500220 | 3 | 1 | 3200 | 3200 |\n| X2510051 | 3 | 2 | 3000 | 1500 |\n| ET300493 | 3 | 3 | 3780 | 1260 |\n| EB000241 | 3 | 1 | 1000 | 1000 |\n| X4600545 | 3 | 1 | 1000 | 1000 |\n| ET300500 | 3 | 1 |  840 |  840 |\n| R2100015 | 3 | 1 |  800 |  800 |\n| R0000003 | 3 | 1 |  600 |  600 |\n| X2500201 | 3 | 1 |  600 |  600 |\n| S1000196 | 3 | 1 |  500 |  500 |\n\n",
            "text/html": [
              "<table class=\"dataframe\">\n",
              "<caption>A grouped_df: 10 × 5</caption>\n",
              "<thead>\n",
              "\t<tr><th scope=col>NumitemID</th><th scope=col>numseason</th><th scope=col>TotalCount</th><th scope=col>Sumqty</th><th scope=col>conversordersRatey</th></tr>\n",
              "\t<tr><th scope=col>&lt;chr&gt;</th><th scope=col>&lt;dbl&gt;</th><th scope=col>&lt;int&gt;</th><th scope=col>&lt;dbl&gt;</th><th scope=col>&lt;int&gt;</th></tr>\n",
              "</thead>\n",
              "<tbody>\n",
              "\t<tr><td>X5500220</td><td>3</td><td>1</td><td>3200</td><td>3200</td></tr>\n",
              "\t<tr><td>X2510051</td><td>3</td><td>2</td><td>3000</td><td>1500</td></tr>\n",
              "\t<tr><td>ET300493</td><td>3</td><td>3</td><td>3780</td><td>1260</td></tr>\n",
              "\t<tr><td>EB000241</td><td>3</td><td>1</td><td>1000</td><td>1000</td></tr>\n",
              "\t<tr><td>X4600545</td><td>3</td><td>1</td><td>1000</td><td>1000</td></tr>\n",
              "\t<tr><td>ET300500</td><td>3</td><td>1</td><td> 840</td><td> 840</td></tr>\n",
              "\t<tr><td>R2100015</td><td>3</td><td>1</td><td> 800</td><td> 800</td></tr>\n",
              "\t<tr><td>R0000003</td><td>3</td><td>1</td><td> 600</td><td> 600</td></tr>\n",
              "\t<tr><td>X2500201</td><td>3</td><td>1</td><td> 600</td><td> 600</td></tr>\n",
              "\t<tr><td>S1000196</td><td>3</td><td>1</td><td> 500</td><td> 500</td></tr>\n",
              "</tbody>\n",
              "</table>\n"
            ]
          },
          "metadata": {
            "tags": []
          }
        }
      ]
    },
    {
      "cell_type": "code",
      "metadata": {
        "colab": {
          "base_uri": "https://localhost:8080/",
          "height": 395
        },
        "id": "jysPRRgjYGZJ",
        "outputId": "72e9d89b-3214-4372-8889-b6d7e02fe0df"
      },
      "source": [
        "ordersByseason4<-filter(ordersByitem_season,numseason==4)#篩選第4季 conversordersRatey 排序\n",
        "ordersByseason4_top10 <- top_n(ordersByseason4, 10, Sumqty)  %>% arrange(desc(conversordersRatey))\n",
        "head(ordersByseason4_top10, n= 10)"
      ],
      "execution_count": null,
      "outputs": [
        {
          "output_type": "display_data",
          "data": {
            "text/plain": [
              "   NumitemID numseason TotalCount Sumqty conversordersRatey\n",
              "1  X5500220  4         3          19200  6400              \n",
              "2  X5500219  4         1           4000  4000              \n",
              "3  E8100029  4         2           6350  3175              \n",
              "4  W0100426  4         1           2600  2600              \n",
              "5  M3000471  4         1           2000  2000              \n",
              "6  E8300021  4         2           3100  1550              \n",
              "7  R2000487  4         1           1400  1400              \n",
              "8  R2000736  4         1           1400  1400              \n",
              "9  S4000025  4         2           2000  1000              \n",
              "10 X2600049  4         2           2000  1000              "
            ],
            "text/latex": "A grouped\\_df: 10 × 5\n\\begin{tabular}{lllll}\n NumitemID & numseason & TotalCount & Sumqty & conversordersRatey\\\\\n <chr> & <dbl> & <int> & <dbl> & <int>\\\\\n\\hline\n\t X5500220 & 4 & 3 & 19200 & 6400\\\\\n\t X5500219 & 4 & 1 &  4000 & 4000\\\\\n\t E8100029 & 4 & 2 &  6350 & 3175\\\\\n\t W0100426 & 4 & 1 &  2600 & 2600\\\\\n\t M3000471 & 4 & 1 &  2000 & 2000\\\\\n\t E8300021 & 4 & 2 &  3100 & 1550\\\\\n\t R2000487 & 4 & 1 &  1400 & 1400\\\\\n\t R2000736 & 4 & 1 &  1400 & 1400\\\\\n\t S4000025 & 4 & 2 &  2000 & 1000\\\\\n\t X2600049 & 4 & 2 &  2000 & 1000\\\\\n\\end{tabular}\n",
            "text/markdown": "\nA grouped_df: 10 × 5\n\n| NumitemID &lt;chr&gt; | numseason &lt;dbl&gt; | TotalCount &lt;int&gt; | Sumqty &lt;dbl&gt; | conversordersRatey &lt;int&gt; |\n|---|---|---|---|---|\n| X5500220 | 4 | 3 | 19200 | 6400 |\n| X5500219 | 4 | 1 |  4000 | 4000 |\n| E8100029 | 4 | 2 |  6350 | 3175 |\n| W0100426 | 4 | 1 |  2600 | 2600 |\n| M3000471 | 4 | 1 |  2000 | 2000 |\n| E8300021 | 4 | 2 |  3100 | 1550 |\n| R2000487 | 4 | 1 |  1400 | 1400 |\n| R2000736 | 4 | 1 |  1400 | 1400 |\n| S4000025 | 4 | 2 |  2000 | 1000 |\n| X2600049 | 4 | 2 |  2000 | 1000 |\n\n",
            "text/html": [
              "<table class=\"dataframe\">\n",
              "<caption>A grouped_df: 10 × 5</caption>\n",
              "<thead>\n",
              "\t<tr><th scope=col>NumitemID</th><th scope=col>numseason</th><th scope=col>TotalCount</th><th scope=col>Sumqty</th><th scope=col>conversordersRatey</th></tr>\n",
              "\t<tr><th scope=col>&lt;chr&gt;</th><th scope=col>&lt;dbl&gt;</th><th scope=col>&lt;int&gt;</th><th scope=col>&lt;dbl&gt;</th><th scope=col>&lt;int&gt;</th></tr>\n",
              "</thead>\n",
              "<tbody>\n",
              "\t<tr><td>X5500220</td><td>4</td><td>3</td><td>19200</td><td>6400</td></tr>\n",
              "\t<tr><td>X5500219</td><td>4</td><td>1</td><td> 4000</td><td>4000</td></tr>\n",
              "\t<tr><td>E8100029</td><td>4</td><td>2</td><td> 6350</td><td>3175</td></tr>\n",
              "\t<tr><td>W0100426</td><td>4</td><td>1</td><td> 2600</td><td>2600</td></tr>\n",
              "\t<tr><td>M3000471</td><td>4</td><td>1</td><td> 2000</td><td>2000</td></tr>\n",
              "\t<tr><td>E8300021</td><td>4</td><td>2</td><td> 3100</td><td>1550</td></tr>\n",
              "\t<tr><td>R2000487</td><td>4</td><td>1</td><td> 1400</td><td>1400</td></tr>\n",
              "\t<tr><td>R2000736</td><td>4</td><td>1</td><td> 1400</td><td>1400</td></tr>\n",
              "\t<tr><td>S4000025</td><td>4</td><td>2</td><td> 2000</td><td>1000</td></tr>\n",
              "\t<tr><td>X2600049</td><td>4</td><td>2</td><td> 2000</td><td>1000</td></tr>\n",
              "</tbody>\n",
              "</table>\n"
            ]
          },
          "metadata": {
            "tags": []
          }
        }
      ]
    },
    {
      "cell_type": "markdown",
      "metadata": {
        "id": "Z0MH9EMaYo4G"
      },
      "source": [
        "#group_by年月\n",
        "group_by year month"
      ]
    },
    {
      "cell_type": "code",
      "metadata": {
        "colab": {
          "base_uri": "https://localhost:8080/",
          "height": 35
        },
        "id": "vpgGKyF1YtBb",
        "outputId": "2e95f9c1-7728-479f-fc99-a5af3fc984ea"
      },
      "source": [
        "names(orders02)"
      ],
      "execution_count": null,
      "outputs": [
        {
          "output_type": "display_data",
          "data": {
            "text/plain": [
              " [1] \"dateDeliver\"         \"clientID\"            \"itemID\"             \n",
              " [4] \"quantityOrder\"       \"unit\"                \"orderNo\"            \n",
              " [7] \"orderDate\"           \"order_year\"          \"order_mth\"          \n",
              "[10] \"diff_order_delivery\" \"season\"             "
            ],
            "text/latex": "\\begin{enumerate*}\n\\item 'dateDeliver'\n\\item 'clientID'\n\\item 'itemID'\n\\item 'quantityOrder'\n\\item 'unit'\n\\item 'orderNo'\n\\item 'orderDate'\n\\item 'order\\_year'\n\\item 'order\\_mth'\n\\item 'diff\\_order\\_delivery'\n\\item 'season'\n\\end{enumerate*}\n",
            "text/markdown": "1. 'dateDeliver'\n2. 'clientID'\n3. 'itemID'\n4. 'quantityOrder'\n5. 'unit'\n6. 'orderNo'\n7. 'orderDate'\n8. 'order_year'\n9. 'order_mth'\n10. 'diff_order_delivery'\n11. 'season'\n\n\n",
            "text/html": [
              "<style>\n",
              ".list-inline {list-style: none; margin:0; padding: 0}\n",
              ".list-inline>li {display: inline-block}\n",
              ".list-inline>li:not(:last-child)::after {content: \"\\00b7\"; padding: 0 .5ex}\n",
              "</style>\n",
              "<ol class=list-inline><li>'dateDeliver'</li><li>'clientID'</li><li>'itemID'</li><li>'quantityOrder'</li><li>'unit'</li><li>'orderNo'</li><li>'orderDate'</li><li>'order_year'</li><li>'order_mth'</li><li>'diff_order_delivery'</li><li>'season'</li></ol>\n"
            ]
          },
          "metadata": {
            "tags": []
          }
        }
      ]
    },
    {
      "cell_type": "code",
      "metadata": {
        "colab": {
          "base_uri": "https://localhost:8080/",
          "height": 1000
        },
        "id": "TooRRbKWYno2",
        "outputId": "f99130b8-fc22-48e3-b2c4-cafbce2cc442"
      },
      "source": [
        "#group_by年月\n",
        "salesALL <- orders02 %>% group_by(order_year,order_mth) %>% summarise('salesALL' = sum(quantityOrder))\n",
        "salesALL\n",
        "#salesALL01 <- salesALL %>% filter(order_year > 2017 , order_year< 2021) #篩選2015-2018"
      ],
      "execution_count": null,
      "outputs": [
        {
          "output_type": "stream",
          "text": [
            "`summarise()` has grouped output by 'order_year'. You can override using the `.groups` argument.\n",
            "\n"
          ],
          "name": "stderr"
        },
        {
          "output_type": "display_data",
          "data": {
            "text/plain": [
              "   order_year order_mth salesALL\n",
              "1  2017        6          768.0 \n",
              "2  2017        7          894.0 \n",
              "3  2017        8          500.0 \n",
              "4  2017        9           26.0 \n",
              "5  2017       10        14497.0 \n",
              "6  2017       11          811.0 \n",
              "7  2017       12        24143.9 \n",
              "8  2018        1        15520.0 \n",
              "9  2018        2        15850.0 \n",
              "10 2018        3        16166.0 \n",
              "11 2018        4         7980.0 \n",
              "12 2018        5        19579.0 \n",
              "13 2018        6        13107.0 \n",
              "14 2018        7        19487.0 \n",
              "15 2018        8         6846.0 \n",
              "16 2018        9         6855.0 \n",
              "17 2018       10        25607.5 \n",
              "18 2018       11        26615.0 \n",
              "19 2018       12        14627.0 \n",
              "20 2019        1         6745.0 \n",
              "21 2019        2         6064.0 \n",
              "22 2019        3        15770.0 \n",
              "23 2019        4        10545.0 \n",
              "24 2019        5         7285.0 \n",
              "25 2019        6         6314.0 \n",
              "26 2019        7        10382.0 \n",
              "27 2019        8        10111.0 \n",
              "28 2019        9         6227.0 \n",
              "29 2019       10         9880.0 \n",
              "30 2019       11         7068.0 \n",
              "31 2019       12         6183.0 \n",
              "32 2020        1         6709.0 \n",
              "33 2020        2         9541.0 \n",
              "34 2020        3         9043.0 \n",
              "35 2020        4         5100.0 \n",
              "36 2020        5         9787.0 \n",
              "37 2020        6         6283.0 \n",
              "38 2020        7         5750.0 \n",
              "39 2020        8         7802.0 \n",
              "40 2020        9         6937.0 \n",
              "41 2020       10         6121.0 \n",
              "42 2020       11        13422.1 \n",
              "43 2020       12         2191.0 "
            ],
            "text/latex": "A grouped\\_df: 43 × 3\n\\begin{tabular}{lll}\n order\\_year & order\\_mth & salesALL\\\\\n <dbl> & <dbl> & <dbl>\\\\\n\\hline\n\t 2017 &  6 &   768.0\\\\\n\t 2017 &  7 &   894.0\\\\\n\t 2017 &  8 &   500.0\\\\\n\t 2017 &  9 &    26.0\\\\\n\t 2017 & 10 & 14497.0\\\\\n\t 2017 & 11 &   811.0\\\\\n\t 2017 & 12 & 24143.9\\\\\n\t 2018 &  1 & 15520.0\\\\\n\t 2018 &  2 & 15850.0\\\\\n\t 2018 &  3 & 16166.0\\\\\n\t 2018 &  4 &  7980.0\\\\\n\t 2018 &  5 & 19579.0\\\\\n\t 2018 &  6 & 13107.0\\\\\n\t 2018 &  7 & 19487.0\\\\\n\t 2018 &  8 &  6846.0\\\\\n\t 2018 &  9 &  6855.0\\\\\n\t 2018 & 10 & 25607.5\\\\\n\t 2018 & 11 & 26615.0\\\\\n\t 2018 & 12 & 14627.0\\\\\n\t 2019 &  1 &  6745.0\\\\\n\t 2019 &  2 &  6064.0\\\\\n\t 2019 &  3 & 15770.0\\\\\n\t 2019 &  4 & 10545.0\\\\\n\t 2019 &  5 &  7285.0\\\\\n\t 2019 &  6 &  6314.0\\\\\n\t 2019 &  7 & 10382.0\\\\\n\t 2019 &  8 & 10111.0\\\\\n\t 2019 &  9 &  6227.0\\\\\n\t 2019 & 10 &  9880.0\\\\\n\t 2019 & 11 &  7068.0\\\\\n\t 2019 & 12 &  6183.0\\\\\n\t 2020 &  1 &  6709.0\\\\\n\t 2020 &  2 &  9541.0\\\\\n\t 2020 &  3 &  9043.0\\\\\n\t 2020 &  4 &  5100.0\\\\\n\t 2020 &  5 &  9787.0\\\\\n\t 2020 &  6 &  6283.0\\\\\n\t 2020 &  7 &  5750.0\\\\\n\t 2020 &  8 &  7802.0\\\\\n\t 2020 &  9 &  6937.0\\\\\n\t 2020 & 10 &  6121.0\\\\\n\t 2020 & 11 & 13422.1\\\\\n\t 2020 & 12 &  2191.0\\\\\n\\end{tabular}\n",
            "text/markdown": "\nA grouped_df: 43 × 3\n\n| order_year &lt;dbl&gt; | order_mth &lt;dbl&gt; | salesALL &lt;dbl&gt; |\n|---|---|---|\n| 2017 |  6 |   768.0 |\n| 2017 |  7 |   894.0 |\n| 2017 |  8 |   500.0 |\n| 2017 |  9 |    26.0 |\n| 2017 | 10 | 14497.0 |\n| 2017 | 11 |   811.0 |\n| 2017 | 12 | 24143.9 |\n| 2018 |  1 | 15520.0 |\n| 2018 |  2 | 15850.0 |\n| 2018 |  3 | 16166.0 |\n| 2018 |  4 |  7980.0 |\n| 2018 |  5 | 19579.0 |\n| 2018 |  6 | 13107.0 |\n| 2018 |  7 | 19487.0 |\n| 2018 |  8 |  6846.0 |\n| 2018 |  9 |  6855.0 |\n| 2018 | 10 | 25607.5 |\n| 2018 | 11 | 26615.0 |\n| 2018 | 12 | 14627.0 |\n| 2019 |  1 |  6745.0 |\n| 2019 |  2 |  6064.0 |\n| 2019 |  3 | 15770.0 |\n| 2019 |  4 | 10545.0 |\n| 2019 |  5 |  7285.0 |\n| 2019 |  6 |  6314.0 |\n| 2019 |  7 | 10382.0 |\n| 2019 |  8 | 10111.0 |\n| 2019 |  9 |  6227.0 |\n| 2019 | 10 |  9880.0 |\n| 2019 | 11 |  7068.0 |\n| 2019 | 12 |  6183.0 |\n| 2020 |  1 |  6709.0 |\n| 2020 |  2 |  9541.0 |\n| 2020 |  3 |  9043.0 |\n| 2020 |  4 |  5100.0 |\n| 2020 |  5 |  9787.0 |\n| 2020 |  6 |  6283.0 |\n| 2020 |  7 |  5750.0 |\n| 2020 |  8 |  7802.0 |\n| 2020 |  9 |  6937.0 |\n| 2020 | 10 |  6121.0 |\n| 2020 | 11 | 13422.1 |\n| 2020 | 12 |  2191.0 |\n\n",
            "text/html": [
              "<table class=\"dataframe\">\n",
              "<caption>A grouped_df: 43 × 3</caption>\n",
              "<thead>\n",
              "\t<tr><th scope=col>order_year</th><th scope=col>order_mth</th><th scope=col>salesALL</th></tr>\n",
              "\t<tr><th scope=col>&lt;dbl&gt;</th><th scope=col>&lt;dbl&gt;</th><th scope=col>&lt;dbl&gt;</th></tr>\n",
              "</thead>\n",
              "<tbody>\n",
              "\t<tr><td>2017</td><td> 6</td><td>  768.0</td></tr>\n",
              "\t<tr><td>2017</td><td> 7</td><td>  894.0</td></tr>\n",
              "\t<tr><td>2017</td><td> 8</td><td>  500.0</td></tr>\n",
              "\t<tr><td>2017</td><td> 9</td><td>   26.0</td></tr>\n",
              "\t<tr><td>2017</td><td>10</td><td>14497.0</td></tr>\n",
              "\t<tr><td>2017</td><td>11</td><td>  811.0</td></tr>\n",
              "\t<tr><td>2017</td><td>12</td><td>24143.9</td></tr>\n",
              "\t<tr><td>2018</td><td> 1</td><td>15520.0</td></tr>\n",
              "\t<tr><td>2018</td><td> 2</td><td>15850.0</td></tr>\n",
              "\t<tr><td>2018</td><td> 3</td><td>16166.0</td></tr>\n",
              "\t<tr><td>2018</td><td> 4</td><td> 7980.0</td></tr>\n",
              "\t<tr><td>2018</td><td> 5</td><td>19579.0</td></tr>\n",
              "\t<tr><td>2018</td><td> 6</td><td>13107.0</td></tr>\n",
              "\t<tr><td>2018</td><td> 7</td><td>19487.0</td></tr>\n",
              "\t<tr><td>2018</td><td> 8</td><td> 6846.0</td></tr>\n",
              "\t<tr><td>2018</td><td> 9</td><td> 6855.0</td></tr>\n",
              "\t<tr><td>2018</td><td>10</td><td>25607.5</td></tr>\n",
              "\t<tr><td>2018</td><td>11</td><td>26615.0</td></tr>\n",
              "\t<tr><td>2018</td><td>12</td><td>14627.0</td></tr>\n",
              "\t<tr><td>2019</td><td> 1</td><td> 6745.0</td></tr>\n",
              "\t<tr><td>2019</td><td> 2</td><td> 6064.0</td></tr>\n",
              "\t<tr><td>2019</td><td> 3</td><td>15770.0</td></tr>\n",
              "\t<tr><td>2019</td><td> 4</td><td>10545.0</td></tr>\n",
              "\t<tr><td>2019</td><td> 5</td><td> 7285.0</td></tr>\n",
              "\t<tr><td>2019</td><td> 6</td><td> 6314.0</td></tr>\n",
              "\t<tr><td>2019</td><td> 7</td><td>10382.0</td></tr>\n",
              "\t<tr><td>2019</td><td> 8</td><td>10111.0</td></tr>\n",
              "\t<tr><td>2019</td><td> 9</td><td> 6227.0</td></tr>\n",
              "\t<tr><td>2019</td><td>10</td><td> 9880.0</td></tr>\n",
              "\t<tr><td>2019</td><td>11</td><td> 7068.0</td></tr>\n",
              "\t<tr><td>2019</td><td>12</td><td> 6183.0</td></tr>\n",
              "\t<tr><td>2020</td><td> 1</td><td> 6709.0</td></tr>\n",
              "\t<tr><td>2020</td><td> 2</td><td> 9541.0</td></tr>\n",
              "\t<tr><td>2020</td><td> 3</td><td> 9043.0</td></tr>\n",
              "\t<tr><td>2020</td><td> 4</td><td> 5100.0</td></tr>\n",
              "\t<tr><td>2020</td><td> 5</td><td> 9787.0</td></tr>\n",
              "\t<tr><td>2020</td><td> 6</td><td> 6283.0</td></tr>\n",
              "\t<tr><td>2020</td><td> 7</td><td> 5750.0</td></tr>\n",
              "\t<tr><td>2020</td><td> 8</td><td> 7802.0</td></tr>\n",
              "\t<tr><td>2020</td><td> 9</td><td> 6937.0</td></tr>\n",
              "\t<tr><td>2020</td><td>10</td><td> 6121.0</td></tr>\n",
              "\t<tr><td>2020</td><td>11</td><td>13422.1</td></tr>\n",
              "\t<tr><td>2020</td><td>12</td><td> 2191.0</td></tr>\n",
              "</tbody>\n",
              "</table>\n"
            ]
          },
          "metadata": {
            "tags": []
          }
        }
      ]
    },
    {
      "cell_type": "markdown",
      "metadata": {
        "id": "3qGoDXq6ZGf4"
      },
      "source": [
        "#轉成時間序列\n",
        "Convert to time series"
      ]
    },
    {
      "cell_type": "markdown",
      "metadata": {
        "id": "KnYxy0qEZTUH"
      },
      "source": [
        "# 總量為例\n",
        "Total amount as an example\n"
      ]
    },
    {
      "cell_type": "code",
      "metadata": {
        "colab": {
          "base_uri": "https://localhost:8080/",
          "height": 185
        },
        "id": "iyZnAYIeZFSF",
        "outputId": "9d3cb418-d747-4a87-8964-8b1e26882dab"
      },
      "source": [
        "#轉成時間序列\n",
        "sellTs <- ts(salesALL$salesALL, frequency = 12, start = c(2017,6))\n",
        "#sellTs01 <-ts(salesALL01$salesALL, frequency = 12, start = c(2018,1))\n",
        "sellTs"
      ],
      "execution_count": null,
      "outputs": [
        {
          "output_type": "display_data",
          "data": {
            "text/plain": [
              "     Jan     Feb     Mar     Apr     May     Jun     Jul     Aug     Sep    \n",
              "2017                                           768.0   894.0   500.0    26.0\n",
              "2018 15520.0 15850.0 16166.0  7980.0 19579.0 13107.0 19487.0  6846.0  6855.0\n",
              "2019  6745.0  6064.0 15770.0 10545.0  7285.0  6314.0 10382.0 10111.0  6227.0\n",
              "2020  6709.0  9541.0  9043.0  5100.0  9787.0  6283.0  5750.0  7802.0  6937.0\n",
              "     Oct     Nov     Dec    \n",
              "2017 14497.0   811.0 24143.9\n",
              "2018 25607.5 26615.0 14627.0\n",
              "2019  9880.0  7068.0  6183.0\n",
              "2020  6121.0 13422.1  2191.0"
            ],
            "text/latex": "A Time Series: 4 × 12\n\\begin{tabular}{r|llllllllllll}\n  & Jan & Feb & Mar & Apr & May & Jun & Jul & Aug & Sep & Oct & Nov & Dec\\\\\n\\hline\n\t2017 &         &         &         &         &         &   768.0 &   894.0 &   500.0 &    26.0 & 14497.0 &   811.0 & 24143.9\\\\\n\t2018 & 15520.0 & 15850.0 & 16166.0 &  7980.0 & 19579.0 & 13107.0 & 19487.0 &  6846.0 &  6855.0 & 25607.5 & 26615.0 & 14627.0\\\\\n\t2019 &  6745.0 &  6064.0 & 15770.0 & 10545.0 &  7285.0 &  6314.0 & 10382.0 & 10111.0 &  6227.0 &  9880.0 &  7068.0 &  6183.0\\\\\n\t2020 &  6709.0 &  9541.0 &  9043.0 &  5100.0 &  9787.0 &  6283.0 &  5750.0 &  7802.0 &  6937.0 &  6121.0 & 13422.1 &  2191.0\\\\\n\\end{tabular}\n",
            "text/markdown": "\nA Time Series: 4 × 12\n\n| <!--/--> | Jan | Feb | Mar | Apr | May | Jun | Jul | Aug | Sep | Oct | Nov | Dec |\n|---|---|---|---|---|---|---|---|---|---|---|---|---|\n| 2017 | <!----> | <!----> | <!----> | <!----> | <!----> |   768.0 |   894.0 |   500.0 |    26.0 | 14497.0 |   811.0 | 24143.9 |\n| 2018 | 15520.0 | 15850.0 | 16166.0 |  7980.0 | 19579.0 | 13107.0 | 19487.0 |  6846.0 |  6855.0 | 25607.5 | 26615.0 | 14627.0 |\n| 2019 |  6745.0 |  6064.0 | 15770.0 | 10545.0 |  7285.0 |  6314.0 | 10382.0 | 10111.0 |  6227.0 |  9880.0 |  7068.0 |  6183.0 |\n| 2020 |  6709.0 |  9541.0 |  9043.0 |  5100.0 |  9787.0 |  6283.0 |  5750.0 |  7802.0 |  6937.0 |  6121.0 | 13422.1 |  2191.0 |\n\n",
            "text/html": [
              "<table class=\"dataframe\">\n",
              "<caption>A Time Series: 4 × 12</caption>\n",
              "<thead>\n",
              "\t<tr><th></th><th scope=col>Jan</th><th scope=col>Feb</th><th scope=col>Mar</th><th scope=col>Apr</th><th scope=col>May</th><th scope=col>Jun</th><th scope=col>Jul</th><th scope=col>Aug</th><th scope=col>Sep</th><th scope=col>Oct</th><th scope=col>Nov</th><th scope=col>Dec</th></tr>\n",
              "</thead>\n",
              "<tbody>\n",
              "\t<tr><th scope=row>2017</th><td>       </td><td>       </td><td>       </td><td>       </td><td>       </td><td>  768.0</td><td>  894.0</td><td>  500.0</td><td>   26.0</td><td>14497.0</td><td>  811.0</td><td>24143.9</td></tr>\n",
              "\t<tr><th scope=row>2018</th><td>15520.0</td><td>15850.0</td><td>16166.0</td><td> 7980.0</td><td>19579.0</td><td>13107.0</td><td>19487.0</td><td> 6846.0</td><td> 6855.0</td><td>25607.5</td><td>26615.0</td><td>14627.0</td></tr>\n",
              "\t<tr><th scope=row>2019</th><td> 6745.0</td><td> 6064.0</td><td>15770.0</td><td>10545.0</td><td> 7285.0</td><td> 6314.0</td><td>10382.0</td><td>10111.0</td><td> 6227.0</td><td> 9880.0</td><td> 7068.0</td><td> 6183.0</td></tr>\n",
              "\t<tr><th scope=row>2020</th><td> 6709.0</td><td> 9541.0</td><td> 9043.0</td><td> 5100.0</td><td> 9787.0</td><td> 6283.0</td><td> 5750.0</td><td> 7802.0</td><td> 6937.0</td><td> 6121.0</td><td>13422.1</td><td> 2191.0</td></tr>\n",
              "</tbody>\n",
              "</table>\n"
            ]
          },
          "metadata": {
            "tags": []
          }
        }
      ]
    },
    {
      "cell_type": "markdown",
      "metadata": {
        "id": "OZ7SrWmkZee4"
      },
      "source": [
        "#建模\n",
        "Modeling"
      ]
    },
    {
      "cell_type": "code",
      "metadata": {
        "colab": {
          "base_uri": "https://localhost:8080/",
          "height": 563
        },
        "id": "V3CNjggxZdIG",
        "outputId": "5dd72f2b-2ef3-49ea-b5f2-e16f649c3505"
      },
      "source": [
        "#建模\n",
        "auto.arima(sellTs,trace= T)\n",
        "# Best model: ARIMA(1,0,0)            with non-zero mean "
      ],
      "execution_count": null,
      "outputs": [
        {
          "output_type": "stream",
          "text": [
            "\n",
            " ARIMA(2,0,2)(1,0,1)[12] with non-zero mean : Inf\n",
            " ARIMA(0,0,0)            with non-zero mean : 881.1612\n",
            " ARIMA(1,0,0)(1,0,0)[12] with non-zero mean : 882.0614\n",
            " ARIMA(0,0,1)(0,0,1)[12] with non-zero mean : 883.1363\n",
            " ARIMA(0,0,0)            with zero mean     : 930.0545\n",
            " ARIMA(0,0,0)(1,0,0)[12] with non-zero mean : 883.2305\n",
            " ARIMA(0,0,0)(0,0,1)[12] with non-zero mean : 883.2023\n",
            " ARIMA(0,0,0)(1,0,1)[12] with non-zero mean : Inf\n",
            " ARIMA(1,0,0)            with non-zero mean : 879.6254\n",
            " ARIMA(1,0,0)(0,0,1)[12] with non-zero mean : 882.0615\n",
            " ARIMA(1,0,0)(1,0,1)[12] with non-zero mean : Inf\n",
            " ARIMA(2,0,0)            with non-zero mean : 880.831\n",
            " ARIMA(1,0,1)            with non-zero mean : 880.4484\n",
            " ARIMA(0,0,1)            with non-zero mean : 880.7275\n",
            " ARIMA(2,0,1)            with non-zero mean : 883.015\n",
            " ARIMA(1,0,0)            with zero mean     : 890.512\n",
            "\n",
            " Best model: ARIMA(1,0,0)            with non-zero mean \n",
            "\n"
          ],
          "name": "stdout"
        },
        {
          "output_type": "display_data",
          "data": {
            "text/plain": [
              "Series: sellTs \n",
              "ARIMA(1,0,0) with non-zero mean \n",
              "\n",
              "Coefficients:\n",
              "         ar1      mean\n",
              "      0.3012  9630.583\n",
              "s.e.  0.1496  1343.142\n",
              "\n",
              "sigma^2 estimated as 40228976:  log likelihood=-436.51\n",
              "AIC=879.01   AICc=879.63   BIC=884.29"
            ]
          },
          "metadata": {
            "tags": []
          }
        }
      ]
    },
    {
      "cell_type": "code",
      "metadata": {
        "colab": {
          "base_uri": "https://localhost:8080/",
          "height": 254
        },
        "id": "7usHxYMfZhw9",
        "outputId": "ee3ee5e1-d2ec-4a05-b535-107ca76441a4"
      },
      "source": [
        "# Best model: ARIMA(1,0,0)\n",
        "#sellarima1 <- arima(sellTs,order=c( 1 , 0 , 0 ),period= 12 ),method= \"ML\" ) \n",
        "sellarima1 <- arima(sellTs,order=c( 1 , 0 , 0 ),\n",
        "                    seasonal=list(order=c( 2 , 1 , 2 ),period= 12 ), \n",
        "                    method= \"ML\" ) \n",
        "sellarima1"
      ],
      "execution_count": null,
      "outputs": [
        {
          "output_type": "stream",
          "text": [
            "Warning message in sqrt(diag(x$var.coef)):\n",
            "“NaNs produced”\n"
          ],
          "name": "stderr"
        },
        {
          "output_type": "display_data",
          "data": {
            "text/plain": [
              "\n",
              "Call:\n",
              "arima(x = sellTs, order = c(1, 0, 0), seasonal = list(order = c(2, 1, 2), period = 12), \n",
              "    method = \"ML\")\n",
              "\n",
              "Coefficients:\n",
              "         ar1     sar1    sar2     sma1    sma2\n",
              "      0.4705  -0.2377  0.1508  -0.2265  0.0925\n",
              "s.e.  0.1557      NaN     NaN      NaN     NaN\n",
              "\n",
              "sigma^2 estimated as 53387749:  log likelihood = -321.93,  aic = 655.87"
            ]
          },
          "metadata": {
            "tags": []
          }
        }
      ]
    },
    {
      "cell_type": "code",
      "metadata": {
        "colab": {
          "base_uri": "https://localhost:8080/"
        },
        "id": "ELNrIm7Nam3Z",
        "outputId": "f9d19c95-f3d5-4023-ae57-58f49f05a390"
      },
      "source": [
        "summary(sellarima1)"
      ],
      "execution_count": null,
      "outputs": [
        {
          "output_type": "stream",
          "text": [
            "\n",
            "Call:\n",
            "arima(x = sellTs, order = c(1, 0, 0), seasonal = list(order = c(2, 1, 2), period = 12), \n",
            "    method = \"ML\")\n",
            "\n",
            "Coefficients:\n"
          ],
          "name": "stdout"
        },
        {
          "output_type": "stream",
          "text": [
            "Warning message in sqrt(diag(x$var.coef)):\n",
            "“NaNs produced”\n"
          ],
          "name": "stderr"
        },
        {
          "output_type": "stream",
          "text": [
            "         ar1     sar1    sar2     sma1    sma2\n",
            "      0.4705  -0.2377  0.1508  -0.2265  0.0925\n",
            "s.e.  0.1557      NaN     NaN      NaN     NaN\n",
            "\n",
            "sigma^2 estimated as 53387749:  log likelihood = -321.93,  aic = 655.87\n",
            "\n",
            "Training set error measures:\n",
            "                    ME     RMSE      MAE       MPE     MAPE      MASE\n",
            "Training set -627.7348 6203.941 3956.073 -20.79995 45.15017 0.7522584\n",
            "                    ACF1\n",
            "Training set -0.05564663\n"
          ],
          "name": "stdout"
        }
      ]
    },
    {
      "cell_type": "code",
      "metadata": {
        "colab": {
          "base_uri": "https://localhost:8080/",
          "height": 254
        },
        "id": "e4yk_hTmaujm",
        "outputId": "905c2b43-25bb-4e2a-8d18-9adfa69f64cf"
      },
      "source": [
        "sellForecast <- forecast(sellarima1, h= 12 ,level=c( 99.5 ))\n",
        "sellForecast"
      ],
      "execution_count": null,
      "outputs": [
        {
          "output_type": "display_data",
          "data": {
            "text/plain": [
              "         Point Forecast   Lo 99.5  Hi 99.5\n",
              "Jan 2021       2588.695 -17973.37 23150.76\n",
              "Feb 2021       5430.616 -17293.43 28154.66\n",
              "Mar 2021      11425.567 -11749.33 34600.47\n",
              "Apr 2021       7666.765 -15604.64 30938.17\n",
              "May 2021       7485.083 -15798.12 30768.28\n",
              "Jun 2021       6151.831 -17090.95 29394.61\n",
              "Jul 2021       7912.019 -15331.82 31155.86\n",
              "Aug 2021       9757.246 -13486.82 33001.32\n",
              "Sep 2021       6994.916 -16249.21 30239.04\n",
              "Oct 2021       6462.551 -16781.58 29706.68\n",
              "Nov 2021       9583.055 -13661.08 32827.19\n",
              "Dec 2021       2198.817 -21045.32 25442.95"
            ]
          },
          "metadata": {
            "tags": []
          }
        }
      ]
    },
    {
      "cell_type": "code",
      "metadata": {
        "colab": {
          "base_uri": "https://localhost:8080/",
          "height": 437
        },
        "id": "6QKtJxX9a4Np",
        "outputId": "c64fa181-7e9c-4c50-e251-9c716e34f1ae"
      },
      "source": [
        "plot(sellTs)"
      ],
      "execution_count": null,
      "outputs": [
        {
          "output_type": "display_data",
          "data": {
            "image/png": "[encoded data removed]",
            "text/plain": [
              "plot without title"
            ]
          },
          "metadata": {
            "tags": [],
            "image/png": {
              "width": 420,
              "height": 420
            }
          }
        }
      ]
    },
    {
      "cell_type": "markdown",
      "metadata": {
        "id": "6Sbj-FvLdDJ7"
      },
      "source": [
        "# 該公司總產量預估\n",
        "The company's total production estimate"
      ]
    },
    {
      "cell_type": "code",
      "metadata": {
        "colab": {
          "base_uri": "https://localhost:8080/",
          "height": 437
        },
        "id": "9BsKzX7Na8Db",
        "outputId": "2055ada8-901a-473e-c4d0-2cdf9d3a0386"
      },
      "source": [
        "plot(sellForecast)"
      ],
      "execution_count": null,
      "outputs": [
        {
          "output_type": "display_data",
          "data": {
            "image/png": "[encoded data removed]",
            "text/plain": [
              "Plot with title “Forecasts from ARIMA(1,0,0)(2,1,2)[12]”"
            ]
          },
          "metadata": {
            "tags": [],
            "image/png": {
              "width": 420,
              "height": 420
            }
          }
        }
      ]
    },
    {
      "cell_type": "code",
      "metadata": {
        "colab": {
          "base_uri": "https://localhost:8080/",
          "height": 655
        },
        "id": "mpzDnr03bK1r",
        "outputId": "b0f30555-c50d-4540-e6d0-dd4b3bbd8440"
      },
      "source": [
        "#預測 (不好)\n",
        "foreSell <- auto.arima( x = sellTs)\n",
        "predict(foreSell, n.ahead = 12, se.fit = TRUE)\n",
        "theForecast <- forecast(object = foreSell, h = 12)\n",
        "plot(theForecast)"
      ],
      "execution_count": null,
      "outputs": [
        {
          "output_type": "display_data",
          "data": {
            "text/plain": [
              "$pred\n",
              "          Jan      Feb      Mar      Apr      May      Jun      Jul      Aug\n",
              "2021 7389.468 8955.465 9427.209 9569.318 9612.127 9625.023 9628.908 9630.078\n",
              "          Sep      Oct      Nov      Dec\n",
              "2021 9630.431 9630.537 9630.569 9630.579\n",
              "\n",
              "$se\n",
              "          Jan      Feb      Mar      Apr      May      Jun      Jul      Aug\n",
              "2021 6342.632 6624.170 6649.128 6651.389 6651.594 6651.612 6651.614 6651.614\n",
              "          Sep      Oct      Nov      Dec\n",
              "2021 6651.614 6651.614 6651.614 6651.614\n"
            ],
            "text/latex": "\\begin{description}\n\\item[\\$pred] A Time Series: 1 × 12\n\\begin{tabular}{r|llllllllllll}\n  & Jan & Feb & Mar & Apr & May & Jun & Jul & Aug & Sep & Oct & Nov & Dec\\\\\n\\hline\n\t2021 & 7389.468 & 8955.465 & 9427.209 & 9569.318 & 9612.127 & 9625.023 & 9628.908 & 9630.078 & 9630.431 & 9630.537 & 9630.569 & 9630.579\\\\\n\\end{tabular}\n\n\\item[\\$se] A Time Series: 1 × 12\n\\begin{tabular}{r|llllllllllll}\n  & Jan & Feb & Mar & Apr & May & Jun & Jul & Aug & Sep & Oct & Nov & Dec\\\\\n\\hline\n\t2021 & 6342.632 & 6624.170 & 6649.128 & 6651.389 & 6651.594 & 6651.612 & 6651.614 & 6651.614 & 6651.614 & 6651.614 & 6651.614 & 6651.614\\\\\n\\end{tabular}\n\n\\end{description}\n",
            "text/markdown": "$pred\n:   \nA Time Series: 1 × 12\n\n| <!--/--> | Jan | Feb | Mar | Apr | May | Jun | Jul | Aug | Sep | Oct | Nov | Dec |\n|---|---|---|---|---|---|---|---|---|---|---|---|---|\n| 2021 | 7389.468 | 8955.465 | 9427.209 | 9569.318 | 9612.127 | 9625.023 | 9628.908 | 9630.078 | 9630.431 | 9630.537 | 9630.569 | 9630.579 |\n\n\n$se\n:   \nA Time Series: 1 × 12\n\n| <!--/--> | Jan | Feb | Mar | Apr | May | Jun | Jul | Aug | Sep | Oct | Nov | Dec |\n|---|---|---|---|---|---|---|---|---|---|---|---|---|\n| 2021 | 6342.632 | 6624.170 | 6649.128 | 6651.389 | 6651.594 | 6651.612 | 6651.614 | 6651.614 | 6651.614 | 6651.614 | 6651.614 | 6651.614 |\n\n\n\n\n",
            "text/html": [
              "<dl>\n",
              "\t<dt>$pred</dt>\n",
              "\t\t<dd><table class=\"dataframe\">\n",
              "<caption>A Time Series: 1 × 12</caption>\n",
              "<thead>\n",
              "\t<tr><th></th><th scope=col>Jan</th><th scope=col>Feb</th><th scope=col>Mar</th><th scope=col>Apr</th><th scope=col>May</th><th scope=col>Jun</th><th scope=col>Jul</th><th scope=col>Aug</th><th scope=col>Sep</th><th scope=col>Oct</th><th scope=col>Nov</th><th scope=col>Dec</th></tr>\n",
              "</thead>\n",
              "<tbody>\n",
              "\t<tr><th scope=row>2021</th><td>7389.468</td><td>8955.465</td><td>9427.209</td><td>9569.318</td><td>9612.127</td><td>9625.023</td><td>9628.908</td><td>9630.078</td><td>9630.431</td><td>9630.537</td><td>9630.569</td><td>9630.579</td></tr>\n",
              "</tbody>\n",
              "</table>\n",
              "</dd>\n",
              "\t<dt>$se</dt>\n",
              "\t\t<dd><table class=\"dataframe\">\n",
              "<caption>A Time Series: 1 × 12</caption>\n",
              "<thead>\n",
              "\t<tr><th></th><th scope=col>Jan</th><th scope=col>Feb</th><th scope=col>Mar</th><th scope=col>Apr</th><th scope=col>May</th><th scope=col>Jun</th><th scope=col>Jul</th><th scope=col>Aug</th><th scope=col>Sep</th><th scope=col>Oct</th><th scope=col>Nov</th><th scope=col>Dec</th></tr>\n",
              "</thead>\n",
              "<tbody>\n",
              "\t<tr><th scope=row>2021</th><td>6342.632</td><td>6624.170</td><td>6649.128</td><td>6651.389</td><td>6651.594</td><td>6651.612</td><td>6651.614</td><td>6651.614</td><td>6651.614</td><td>6651.614</td><td>6651.614</td><td>6651.614</td></tr>\n",
              "</tbody>\n",
              "</table>\n",
              "</dd>\n",
              "</dl>\n"
            ]
          },
          "metadata": {
            "tags": []
          }
        },
        {
          "output_type": "display_data",
          "data": {
            "image/png": "[encoded data removed]",
            "text/plain": [
              "Plot with title “Forecasts from ARIMA(1,0,0) with non-zero mean”"
            ]
          },
          "metadata": {
            "tags": [],
            "image/png": {
              "width": 420,
              "height": 420
            }
          }
        }
      ]
    },
    {
      "cell_type": "markdown",
      "metadata": {
        "id": "u_Pl7Y3NbfsZ"
      },
      "source": [
        "# 使用移動平均值將時間序列分解為季節性，趨勢和不規則分量。 處理加法或乘法季節性組件。\n",
        "Use moving averages to decompose the time series into seasonal, trend, and irregular components. Handles additive or multiplicative seasonal components.\n",
        "* Decompose a time series into seasonal, trend and irregular components using moving averages. Deals with additive or multiplicative seasonal component.\n",
        "* 區分 observed, trend , searonal, random 四張圖"
      ]
    },
    {
      "cell_type": "code",
      "metadata": {
        "colab": {
          "base_uri": "https://localhost:8080/",
          "height": 1000
        },
        "id": "Z1iqvvQ7bc3J",
        "outputId": "082a1d0c-3b61-4816-eab3-6a1c61729ba5"
      },
      "source": [
        "# 使用移動平均值將時間序列分解為季節性，趨勢和不規則分量。 處理加法或乘法季節性組件。\n",
        "# Decompose a time series into seasonal, trend and irregular components using moving averages. Deals with additive or multiplicative seasonal component.\n",
        "# 區分 observed, trend , searonal, random 四張圖\n",
        "f <- decompose(sellTs)\n",
        "class(f) #查看變數的類型，顯示為因子\n",
        "f"
      ],
      "execution_count": null,
      "outputs": [
        {
          "output_type": "display_data",
          "data": {
            "text/plain": [
              "[1] \"decomposed.ts\""
            ],
            "text/latex": "'decomposed.ts'",
            "text/markdown": "'decomposed.ts'",
            "text/html": [
              "'decomposed.ts'"
            ]
          },
          "metadata": {
            "tags": []
          }
        },
        {
          "output_type": "display_data",
          "data": {
            "text/plain": [
              "$x\n",
              "         Jan     Feb     Mar     Apr     May     Jun     Jul     Aug     Sep\n",
              "2017                                           768.0   894.0   500.0    26.0\n",
              "2018 15520.0 15850.0 16166.0  7980.0 19579.0 13107.0 19487.0  6846.0  6855.0\n",
              "2019  6745.0  6064.0 15770.0 10545.0  7285.0  6314.0 10382.0 10111.0  6227.0\n",
              "2020  6709.0  9541.0  9043.0  5100.0  9787.0  6283.0  5750.0  7802.0  6937.0\n",
              "         Oct     Nov     Dec\n",
              "2017 14497.0   811.0 24143.9\n",
              "2018 25607.5 26615.0 14627.0\n",
              "2019  9880.0  7068.0  6183.0\n",
              "2020  6121.0 13422.1  2191.0\n",
              "\n",
              "$seasonal\n",
              "            Jan        Feb        Mar        Apr        May        Jun\n",
              "2017                                                        -3085.2914\n",
              "2018 -1720.3012 -1062.1623  1915.1016 -3849.2178   433.9613 -3085.2914\n",
              "2019 -1720.3012 -1062.1623  1915.1016 -3849.2178   433.9613 -3085.2914\n",
              "2020 -1720.3012 -1062.1623  1915.1016 -3849.2178   433.9613 -3085.2914\n",
              "            Jul        Aug        Sep        Oct        Nov        Dec\n",
              "2017  2194.0988 -3946.9012 -5604.5678  5806.5780  5168.3280  3750.3738\n",
              "2018  2194.0988 -3946.9012 -5604.5678  5806.5780  5168.3280  3750.3738\n",
              "2019  2194.0988 -3946.9012 -5604.5678  5806.5780  5168.3280  3750.3738\n",
              "2020  2194.0988 -3946.9012 -5604.5678  5806.5780  5168.3280  3750.3738\n",
              "\n",
              "$trend\n",
              "           Jan       Feb       Mar       Apr       May       Jun       Jul\n",
              "2017                                                          NA        NA\n",
              "2018 11530.867 12569.992 13118.950 13866.429 15404.533 16083.163 15321.000\n",
              "2019 12350.667 12107.333 12217.208 11535.729 10065.958  8899.667  8546.333\n",
              "2020  7833.167  7543.958  7477.333  7350.292  7458.421  7556.842        NA\n",
              "           Aug       Sep       Oct       Nov       Dec\n",
              "2017        NA        NA        NA        NA 10242.033\n",
              "2018 14547.625 14123.375 14213.750 13808.375 13013.083\n",
              "2019  8689.708  8554.292  8047.125  7924.500  8027.458\n",
              "2020        NA        NA        NA        NA        NA\n",
              "\n",
              "$random\n",
              "            Jan        Feb        Mar        Apr        May        Jun\n",
              "2017                                                                NA\n",
              "2018  5709.4345  4342.1706  1131.9484 -2037.2113  3740.5053   109.1289\n",
              "2019 -3885.3655 -4981.1711  1637.6900  2858.4887 -3214.9197   499.6248\n",
              "2020   596.1345  3059.2039  -349.4350  1598.9262  1894.6178  1811.4498\n",
              "            Jul        Aug        Sep        Oct        Nov        Dec\n",
              "2017         NA         NA         NA         NA         NA 10151.4928\n",
              "2018  1971.9012 -3754.7238 -1663.8072  5587.1720  7638.2970 -2136.4572\n",
              "2019  -358.4322  5368.1928  3277.2762 -3973.7030 -6024.8280 -5594.8322\n",
              "2020         NA         NA         NA         NA         NA         NA\n",
              "\n",
              "$figure\n",
              " [1] -3085.2914  2194.0988 -3946.9012 -5604.5678  5806.5780  5168.3280\n",
              " [7]  3750.3738 -1720.3012 -1062.1623  1915.1016 -3849.2178   433.9613\n",
              "\n",
              "$type\n",
              "[1] \"additive\"\n",
              "\n",
              "attr(,\"class\")\n",
              "[1] \"decomposed.ts\""
            ]
          },
          "metadata": {
            "tags": []
          }
        }
      ]
    },
    {
      "cell_type": "code",
      "metadata": {
        "colab": {
          "base_uri": "https://localhost:8080/",
          "height": 35
        },
        "id": "nIMALuLQbqW-",
        "outputId": "19a5b1d4-1a5a-4a9f-e03f-76e556524359"
      },
      "source": [
        "names(f)"
      ],
      "execution_count": null,
      "outputs": [
        {
          "output_type": "display_data",
          "data": {
            "text/plain": [
              "[1] \"x\"        \"seasonal\" \"trend\"    \"random\"   \"figure\"   \"type\"    "
            ],
            "text/latex": "\\begin{enumerate*}\n\\item 'x'\n\\item 'seasonal'\n\\item 'trend'\n\\item 'random'\n\\item 'figure'\n\\item 'type'\n\\end{enumerate*}\n",
            "text/markdown": "1. 'x'\n2. 'seasonal'\n3. 'trend'\n4. 'random'\n5. 'figure'\n6. 'type'\n\n\n",
            "text/html": [
              "<style>\n",
              ".list-inline {list-style: none; margin:0; padding: 0}\n",
              ".list-inline>li {display: inline-block}\n",
              ".list-inline>li:not(:last-child)::after {content: \"\\00b7\"; padding: 0 .5ex}\n",
              "</style>\n",
              "<ol class=list-inline><li>'x'</li><li>'seasonal'</li><li>'trend'</li><li>'random'</li><li>'figure'</li><li>'type'</li></ol>\n"
            ]
          },
          "metadata": {
            "tags": []
          }
        }
      ]
    },
    {
      "cell_type": "code",
      "metadata": {
        "colab": {
          "base_uri": "https://localhost:8080/",
          "height": 35
        },
        "id": "2aLYW3Fubt2J",
        "outputId": "0ac0be0f-30a7-423d-e84f-3f6174df973f"
      },
      "source": [
        "f$figure"
      ],
      "execution_count": null,
      "outputs": [
        {
          "output_type": "display_data",
          "data": {
            "text/plain": [
              " [1] -3085.2914  2194.0988 -3946.9012 -5604.5678  5806.5780  5168.3280\n",
              " [7]  3750.3738 -1720.3012 -1062.1623  1915.1016 -3849.2178   433.9613"
            ],
            "text/latex": "\\begin{enumerate*}\n\\item -3085.29143518519\n\\item 2194.09884259259\n\\item -3946.90115740741\n\\item -5604.56782407407\n\\item 5806.57800925926\n\\item 5168.32800925926\n\\item 3750.37384259259\n\\item -1720.30115740741\n\\item -1062.16226851852\n\\item 1915.10162037037\n\\item -3849.21782407407\n\\item 433.961342592593\n\\end{enumerate*}\n",
            "text/markdown": "1. -3085.29143518519\n2. 2194.09884259259\n3. -3946.90115740741\n4. -5604.56782407407\n5. 5806.57800925926\n6. 5168.32800925926\n7. 3750.37384259259\n8. -1720.30115740741\n9. -1062.16226851852\n10. 1915.10162037037\n11. -3849.21782407407\n12. 433.961342592593\n\n\n",
            "text/html": [
              "<style>\n",
              ".list-inline {list-style: none; margin:0; padding: 0}\n",
              ".list-inline>li {display: inline-block}\n",
              ".list-inline>li:not(:last-child)::after {content: \"\\00b7\"; padding: 0 .5ex}\n",
              "</style>\n",
              "<ol class=list-inline><li>-3085.29143518519</li><li>2194.09884259259</li><li>-3946.90115740741</li><li>-5604.56782407407</li><li>5806.57800925926</li><li>5168.32800925926</li><li>3750.37384259259</li><li>-1720.30115740741</li><li>-1062.16226851852</li><li>1915.10162037037</li><li>-3849.21782407407</li><li>433.961342592593</li></ol>\n"
            ]
          },
          "metadata": {
            "tags": []
          }
        }
      ]
    },
    {
      "cell_type": "code",
      "metadata": {
        "colab": {
          "base_uri": "https://localhost:8080/",
          "height": 437
        },
        "id": "bBSvOky4by7z",
        "outputId": "5a513b43-f8ba-4433-eeee-26eb836e7139"
      },
      "source": [
        "plot(f$figure, type=\"b\", xaxt=\"n\", xlab=\"\")"
      ],
      "execution_count": null,
      "outputs": [
        {
          "output_type": "display_data",
          "data": {
            "image/png": "[encoded data removed]",
            "text/plain": [
              "plot without title"
            ]
          },
          "metadata": {
            "tags": [],
            "image/png": {
              "width": 420,
              "height": 420
            }
          }
        }
      ]
    },
    {
      "cell_type": "code",
      "metadata": {
        "colab": {
          "base_uri": "https://localhost:8080/",
          "height": 437
        },
        "id": "6hAMG04ob4Kf",
        "outputId": "58959dc6-061e-4e8e-d7df-023c1c50f0ab"
      },
      "source": [
        "plot(f$figure, type=\"b\", xlab=\"Month\")"
      ],
      "execution_count": null,
      "outputs": [
        {
          "output_type": "display_data",
          "data": {
            "image/png": "[encoded data removed]",
            "text/plain": [
              "plot without title"
            ]
          },
          "metadata": {
            "tags": [],
            "image/png": {
              "width": 420,
              "height": 420
            }
          }
        }
      ]
    },
    {
      "cell_type": "code",
      "metadata": {
        "colab": {
          "base_uri": "https://localhost:8080/",
          "height": 437
        },
        "id": "7e3sCPOHb-12",
        "outputId": "7aa158a7-f740-4b1d-d9d8-b17148793217"
      },
      "source": [
        "plot(f)"
      ],
      "execution_count": null,
      "outputs": [
        {
          "output_type": "display_data",
          "data": {
            "image/png": "[encoded data removed]",
            "text/plain": [
              "plot without title"
            ]
          },
          "metadata": {
            "tags": [],
            "image/png": {
              "width": 420,
              "height": 420
            }
          }
        }
      ]
    },
    {
      "cell_type": "markdown",
      "metadata": {
        "id": "b7X-8nIXwoun"
      },
      "source": [
        "# Homework01: 上述以該公司總產量預估為例，請各位同學可以依據暢銷產品(TOP 10)與 重要客戶(TOP 10 OR TOP 5)為例 做時間序列的預估?\n",
        "Taking the company’s total output estimation as an example, please students can estimate the time series based on the best-selling products (TOP 10) and important customers (TOP 10 OR TOP 5)?\n"
      ]
    },
    {
      "cell_type": "markdown",
      "metadata": {
        "id": "hyd-BLoZxhqI"
      },
      "source": [
        "# Homework02:請由UCI資料集中找到與時間序列有關的資料集，依據本次課程內容作練習?\n",
        "Please find the data set related to the time series from the UCI data set, and practice according to the content of this course?\n"
      ]
    },
    {
      "cell_type": "markdown",
      "metadata": {
        "id": "51Xc3a0MhfGv"
      },
      "source": [
        "# 以下程式碼不用執行  測試用\n",
        "The following code does not need to be executed for testing"
      ]
    },
    {
      "cell_type": "code",
      "metadata": {
        "id": "Flgg26k1QyWw"
      },
      "source": [
        "save.image(\"/content/sample_data/R_InventoryManagement.RData\")"
      ],
      "execution_count": null,
      "outputs": []
    },
    {
      "cell_type": "code",
      "metadata": {
        "id": "jInQoEDHRbui"
      },
      "source": [
        "load(\"/content/sample_data/R_InventoryManagement.RData\")"
      ],
      "execution_count": null,
      "outputs": []
    },
    {
      "cell_type": "code",
      "metadata": {
        "colab": {
          "base_uri": "https://localhost:8080/",
          "height": 329
        },
        "id": "pqVfluJnrySk",
        "outputId": "cabceb59-b12a-47ea-b90c-3e93851a700a"
      },
      "source": [
        "orders02ClientID <- orders02 %>% group_by(clientID, order_year, order_mth) %>% \n",
        "  summarise(Count = n(), TotalQuantityOrder = sum( quantityOrder ))\n",
        "\n",
        "dim(orders02ClientID)\n",
        "head(orders02ClientID)"
      ],
      "execution_count": null,
      "outputs": [
        {
          "output_type": "stream",
          "text": [
            "`summarise()` has grouped output by 'clientID', 'order_year'. You can override using the `.groups` argument.\n",
            "\n"
          ],
          "name": "stderr"
        },
        {
          "output_type": "display_data",
          "data": {
            "text/plain": [
              "[1] 4505    5"
            ],
            "text/latex": "\\begin{enumerate*}\n\\item 4505\n\\item 5\n\\end{enumerate*}\n",
            "text/markdown": "1. 4505\n2. 5\n\n\n",
            "text/html": [
              "<style>\n",
              ".list-inline {list-style: none; margin:0; padding: 0}\n",
              ".list-inline>li {display: inline-block}\n",
              ".list-inline>li:not(:last-child)::after {content: \"\\00b7\"; padding: 0 .5ex}\n",
              "</style>\n",
              "<ol class=list-inline><li>4505</li><li>5</li></ol>\n"
            ]
          },
          "metadata": {
            "tags": []
          }
        },
        {
          "output_type": "display_data",
          "data": {
            "text/plain": [
              "  clientID order_year order_mth Count TotalQuantityOrder\n",
              "1 0010009  2020       5         10    30                \n",
              "2 0010009  2020       9          2     7                \n",
              "3 0010015  2020       4          2     2                \n",
              "4 0010015  2020       5          4    11                \n",
              "5 0010015  2020       7          5     9                \n",
              "6 0010015  2020       8          3     5                "
            ],
            "text/latex": "A grouped\\_df: 6 × 5\n\\begin{tabular}{lllll}\n clientID & order\\_year & order\\_mth & Count & TotalQuantityOrder\\\\\n <chr> & <dbl> & <dbl> & <int> & <dbl>\\\\\n\\hline\n\t 0010009 & 2020 & 5 & 10 & 30\\\\\n\t 0010009 & 2020 & 9 &  2 &  7\\\\\n\t 0010015 & 2020 & 4 &  2 &  2\\\\\n\t 0010015 & 2020 & 5 &  4 & 11\\\\\n\t 0010015 & 2020 & 7 &  5 &  9\\\\\n\t 0010015 & 2020 & 8 &  3 &  5\\\\\n\\end{tabular}\n",
            "text/markdown": "\nA grouped_df: 6 × 5\n\n| clientID &lt;chr&gt; | order_year &lt;dbl&gt; | order_mth &lt;dbl&gt; | Count &lt;int&gt; | TotalQuantityOrder &lt;dbl&gt; |\n|---|---|---|---|---|\n| 0010009 | 2020 | 5 | 10 | 30 |\n| 0010009 | 2020 | 9 |  2 |  7 |\n| 0010015 | 2020 | 4 |  2 |  2 |\n| 0010015 | 2020 | 5 |  4 | 11 |\n| 0010015 | 2020 | 7 |  5 |  9 |\n| 0010015 | 2020 | 8 |  3 |  5 |\n\n",
            "text/html": [
              "<table class=\"dataframe\">\n",
              "<caption>A grouped_df: 6 × 5</caption>\n",
              "<thead>\n",
              "\t<tr><th scope=col>clientID</th><th scope=col>order_year</th><th scope=col>order_mth</th><th scope=col>Count</th><th scope=col>TotalQuantityOrder</th></tr>\n",
              "\t<tr><th scope=col>&lt;chr&gt;</th><th scope=col>&lt;dbl&gt;</th><th scope=col>&lt;dbl&gt;</th><th scope=col>&lt;int&gt;</th><th scope=col>&lt;dbl&gt;</th></tr>\n",
              "</thead>\n",
              "<tbody>\n",
              "\t<tr><td>0010009</td><td>2020</td><td>5</td><td>10</td><td>30</td></tr>\n",
              "\t<tr><td>0010009</td><td>2020</td><td>9</td><td> 2</td><td> 7</td></tr>\n",
              "\t<tr><td>0010015</td><td>2020</td><td>4</td><td> 2</td><td> 2</td></tr>\n",
              "\t<tr><td>0010015</td><td>2020</td><td>5</td><td> 4</td><td>11</td></tr>\n",
              "\t<tr><td>0010015</td><td>2020</td><td>7</td><td> 5</td><td> 9</td></tr>\n",
              "\t<tr><td>0010015</td><td>2020</td><td>8</td><td> 3</td><td> 5</td></tr>\n",
              "</tbody>\n",
              "</table>\n"
            ]
          },
          "metadata": {
            "tags": []
          }
        }
      ]
    },
    {
      "cell_type": "code",
      "metadata": {
        "colab": {
          "base_uri": "https://localhost:8080/",
          "height": 329
        },
        "id": "VHdqaZXDoWYT",
        "outputId": "cc84b151-78df-431c-e8eb-67bc446d5416"
      },
      "source": [
        "orders02ClientID <- orders02 %>% group_by(clientID, order_year, order_mth) %>% \n",
        "  summarise(Count = n(), TotalQuantityOrder = sum( quantityOrder )) %>% arrange(order_year, order_mth,clientID )\n",
        "\n",
        "dim(orders02ClientID)\n",
        "head(orders02ClientID)"
      ],
      "execution_count": null,
      "outputs": [
        {
          "output_type": "stream",
          "text": [
            "`summarise()` has grouped output by 'clientID', 'order_year'. You can override using the `.groups` argument.\n",
            "\n"
          ],
          "name": "stderr"
        },
        {
          "output_type": "display_data",
          "data": {
            "text/plain": [
              "[1] 4505    5"
            ],
            "text/latex": "\\begin{enumerate*}\n\\item 4505\n\\item 5\n\\end{enumerate*}\n",
            "text/markdown": "1. 4505\n2. 5\n\n\n",
            "text/html": [
              "<style>\n",
              ".list-inline {list-style: none; margin:0; padding: 0}\n",
              ".list-inline>li {display: inline-block}\n",
              ".list-inline>li:not(:last-child)::after {content: \"\\00b7\"; padding: 0 .5ex}\n",
              "</style>\n",
              "<ol class=list-inline><li>4505</li><li>5</li></ol>\n"
            ]
          },
          "metadata": {
            "tags": []
          }
        },
        {
          "output_type": "display_data",
          "data": {
            "text/plain": [
              "  clientID order_year order_mth Count TotalQuantityOrder\n",
              "1 0040164  2017        6        6     768               \n",
              "2 0220012  2017        7        3     894               \n",
              "3 0020215  2017        8        9     500               \n",
              "4 0170177  2017        9        5      24               \n",
              "5 0240008  2017        9        2       2               \n",
              "6 0020320  2017       10        5      64               "
            ],
            "text/latex": "A grouped\\_df: 6 × 5\n\\begin{tabular}{lllll}\n clientID & order\\_year & order\\_mth & Count & TotalQuantityOrder\\\\\n <chr> & <dbl> & <dbl> & <int> & <dbl>\\\\\n\\hline\n\t 0040164 & 2017 &  6 & 6 & 768\\\\\n\t 0220012 & 2017 &  7 & 3 & 894\\\\\n\t 0020215 & 2017 &  8 & 9 & 500\\\\\n\t 0170177 & 2017 &  9 & 5 &  24\\\\\n\t 0240008 & 2017 &  9 & 2 &   2\\\\\n\t 0020320 & 2017 & 10 & 5 &  64\\\\\n\\end{tabular}\n",
            "text/markdown": "\nA grouped_df: 6 × 5\n\n| clientID &lt;chr&gt; | order_year &lt;dbl&gt; | order_mth &lt;dbl&gt; | Count &lt;int&gt; | TotalQuantityOrder &lt;dbl&gt; |\n|---|---|---|---|---|\n| 0040164 | 2017 |  6 | 6 | 768 |\n| 0220012 | 2017 |  7 | 3 | 894 |\n| 0020215 | 2017 |  8 | 9 | 500 |\n| 0170177 | 2017 |  9 | 5 |  24 |\n| 0240008 | 2017 |  9 | 2 |   2 |\n| 0020320 | 2017 | 10 | 5 |  64 |\n\n",
            "text/html": [
              "<table class=\"dataframe\">\n",
              "<caption>A grouped_df: 6 × 5</caption>\n",
              "<thead>\n",
              "\t<tr><th scope=col>clientID</th><th scope=col>order_year</th><th scope=col>order_mth</th><th scope=col>Count</th><th scope=col>TotalQuantityOrder</th></tr>\n",
              "\t<tr><th scope=col>&lt;chr&gt;</th><th scope=col>&lt;dbl&gt;</th><th scope=col>&lt;dbl&gt;</th><th scope=col>&lt;int&gt;</th><th scope=col>&lt;dbl&gt;</th></tr>\n",
              "</thead>\n",
              "<tbody>\n",
              "\t<tr><td>0040164</td><td>2017</td><td> 6</td><td>6</td><td>768</td></tr>\n",
              "\t<tr><td>0220012</td><td>2017</td><td> 7</td><td>3</td><td>894</td></tr>\n",
              "\t<tr><td>0020215</td><td>2017</td><td> 8</td><td>9</td><td>500</td></tr>\n",
              "\t<tr><td>0170177</td><td>2017</td><td> 9</td><td>5</td><td> 24</td></tr>\n",
              "\t<tr><td>0240008</td><td>2017</td><td> 9</td><td>2</td><td>  2</td></tr>\n",
              "\t<tr><td>0020320</td><td>2017</td><td>10</td><td>5</td><td> 64</td></tr>\n",
              "</tbody>\n",
              "</table>\n"
            ]
          },
          "metadata": {
            "tags": []
          }
        }
      ]
    },
    {
      "cell_type": "code",
      "metadata": {
        "colab": {
          "base_uri": "https://localhost:8080/",
          "height": 1000
        },
        "id": "9ZJSFJjGo3uV",
        "outputId": "50f9f4a1-0a43-4166-a1e1-52b6426020e0"
      },
      "source": [
        "dim(orders02ClientID)\n",
        "orders02ClientID"
      ],
      "execution_count": null,
      "outputs": [
        {
          "output_type": "display_data",
          "data": {
            "text/plain": [
              "[1] 4505    5"
            ],
            "text/latex": "\\begin{enumerate*}\n\\item 4505\n\\item 5\n\\end{enumerate*}\n",
            "text/markdown": "1. 4505\n2. 5\n\n\n",
            "text/html": [
              "<style>\n",
              ".list-inline {list-style: none; margin:0; padding: 0}\n",
              ".list-inline>li {display: inline-block}\n",
              ".list-inline>li:not(:last-child)::after {content: \"\\00b7\"; padding: 0 .5ex}\n",
              "</style>\n",
              "<ol class=list-inline><li>4505</li><li>5</li></ol>\n"
            ]
          },
          "metadata": {
            "tags": []
          }
        },
        {
          "output_type": "display_data",
          "data": {
            "text/plain": [
              "     clientID order_year order_mth Count TotalQuantityOrder\n",
              "1    0040164  2017        6         6      768             \n",
              "2    0220012  2017        7         3      894             \n",
              "3    0020215  2017        8         9      500             \n",
              "4    0170177  2017        9         5       24             \n",
              "5    0240008  2017        9         2        2             \n",
              "6    0020320  2017       10         5       64             \n",
              "7    0020453  2017       10         3      400             \n",
              "8    0040033  2017       10        15       24             \n",
              "9    0040143  2017       10         1       26             \n",
              "10   0090077  2017       10         4       20             \n",
              "11   0220012  2017       10         2       38             \n",
              "12   0250070  2017       10         4      277             \n",
              "13   0250332  2017       10        10       45             \n",
              "14   0260002  2017       10         7    13603             \n",
              "15   0040033  2017       11        31       57             \n",
              "16   0040054  2017       11         1        2             \n",
              "17   0040084  2017       11         8      231             \n",
              "18   0040117  2017       11         1        6             \n",
              "19   0040143  2017       11         2      192             \n",
              "20   0040164  2017       11         3      168             \n",
              "21   0040172  2017       11         1       27             \n",
              "22   0040244  2017       11         2       17             \n",
              "23   0040478  2017       11         1      100             \n",
              "24   0170025  2017       11         1        1             \n",
              "25   0240001  2017       11        10       10             \n",
              "26   0020048  2017       12         5       38             \n",
              "27   0020131  2017       12         3       90             \n",
              "28   0020320  2017       12         1        2             \n",
              "29   0020520  2017       12         2        4             \n",
              "30   0020523  2017       12         5        8             \n",
              "⋮    ⋮        ⋮          ⋮         ⋮     ⋮                 \n",
              "4476 0170012  2020       12         1      1               \n",
              "4477 0170017  2020       12         3      7               \n",
              "4478 0170019  2020       12         7     18               \n",
              "4479 0170088  2020       12         4      9               \n",
              "4480 0170125  2020       12         1      1               \n",
              "4481 0170180  2020       12         1      1               \n",
              "4482 0220068  2020       12         2      4               \n",
              "4483 0220148  2020       12         1      1               \n",
              "4484 0230002  2020       12         1      3               \n",
              "4485 0240001  2020       12        21    184               \n",
              "4486 0240002  2020       12        30    128               \n",
              "4487 0240003  2020       12        18     68               \n",
              "4488 0240007  2020       12         5      6               \n",
              "4489 0240008  2020       12        11     24               \n",
              "4490 0240011  2020       12         2      2               \n",
              "4491 0250050  2020       12        17    167               \n",
              "4492 0250054  2020       12         6     19               \n",
              "4493 0250062  2020       12         2      5               \n",
              "4494 0250102  2020       12         2      8               \n",
              "4495 0250170  2020       12         1      8               \n",
              "4496 0250212  2020       12         1      4               \n",
              "4497 0250308  2020       12         1      1               \n",
              "4498 0250368  2020       12         3      7               \n",
              "4499 0250383  2020       12         1      4               \n",
              "4500 0250400  2020       12         9     19               \n",
              "4501 0250492  2020       12         2      4               \n",
              "4502 0250654  2020       12         3      3               \n",
              "4503 0250660  2020       12         3      4               \n",
              "4504 0250681  2020       12         2      2               \n",
              "4505 0260002  2020       12        13     68               "
            ],
            "text/latex": "A grouped\\_df: 4505 × 5\n\\begin{tabular}{lllll}\n clientID & order\\_year & order\\_mth & Count & TotalQuantityOrder\\\\\n <chr> & <dbl> & <dbl> & <int> & <dbl>\\\\\n\\hline\n\t 0040164 & 2017 &  6 &  6 &   768\\\\\n\t 0220012 & 2017 &  7 &  3 &   894\\\\\n\t 0020215 & 2017 &  8 &  9 &   500\\\\\n\t 0170177 & 2017 &  9 &  5 &    24\\\\\n\t 0240008 & 2017 &  9 &  2 &     2\\\\\n\t 0020320 & 2017 & 10 &  5 &    64\\\\\n\t 0020453 & 2017 & 10 &  3 &   400\\\\\n\t 0040033 & 2017 & 10 & 15 &    24\\\\\n\t 0040143 & 2017 & 10 &  1 &    26\\\\\n\t 0090077 & 2017 & 10 &  4 &    20\\\\\n\t 0220012 & 2017 & 10 &  2 &    38\\\\\n\t 0250070 & 2017 & 10 &  4 &   277\\\\\n\t 0250332 & 2017 & 10 & 10 &    45\\\\\n\t 0260002 & 2017 & 10 &  7 & 13603\\\\\n\t 0040033 & 2017 & 11 & 31 &    57\\\\\n\t 0040054 & 2017 & 11 &  1 &     2\\\\\n\t 0040084 & 2017 & 11 &  8 &   231\\\\\n\t 0040117 & 2017 & 11 &  1 &     6\\\\\n\t 0040143 & 2017 & 11 &  2 &   192\\\\\n\t 0040164 & 2017 & 11 &  3 &   168\\\\\n\t 0040172 & 2017 & 11 &  1 &    27\\\\\n\t 0040244 & 2017 & 11 &  2 &    17\\\\\n\t 0040478 & 2017 & 11 &  1 &   100\\\\\n\t 0170025 & 2017 & 11 &  1 &     1\\\\\n\t 0240001 & 2017 & 11 & 10 &    10\\\\\n\t 0020048 & 2017 & 12 &  5 &    38\\\\\n\t 0020131 & 2017 & 12 &  3 &    90\\\\\n\t 0020320 & 2017 & 12 &  1 &     2\\\\\n\t 0020520 & 2017 & 12 &  2 &     4\\\\\n\t 0020523 & 2017 & 12 &  5 &     8\\\\\n\t ⋮ & ⋮ & ⋮ & ⋮ & ⋮\\\\\n\t 0170012 & 2020 & 12 &  1 &   1\\\\\n\t 0170017 & 2020 & 12 &  3 &   7\\\\\n\t 0170019 & 2020 & 12 &  7 &  18\\\\\n\t 0170088 & 2020 & 12 &  4 &   9\\\\\n\t 0170125 & 2020 & 12 &  1 &   1\\\\\n\t 0170180 & 2020 & 12 &  1 &   1\\\\\n\t 0220068 & 2020 & 12 &  2 &   4\\\\\n\t 0220148 & 2020 & 12 &  1 &   1\\\\\n\t 0230002 & 2020 & 12 &  1 &   3\\\\\n\t 0240001 & 2020 & 12 & 21 & 184\\\\\n\t 0240002 & 2020 & 12 & 30 & 128\\\\\n\t 0240003 & 2020 & 12 & 18 &  68\\\\\n\t 0240007 & 2020 & 12 &  5 &   6\\\\\n\t 0240008 & 2020 & 12 & 11 &  24\\\\\n\t 0240011 & 2020 & 12 &  2 &   2\\\\\n\t 0250050 & 2020 & 12 & 17 & 167\\\\\n\t 0250054 & 2020 & 12 &  6 &  19\\\\\n\t 0250062 & 2020 & 12 &  2 &   5\\\\\n\t 0250102 & 2020 & 12 &  2 &   8\\\\\n\t 0250170 & 2020 & 12 &  1 &   8\\\\\n\t 0250212 & 2020 & 12 &  1 &   4\\\\\n\t 0250308 & 2020 & 12 &  1 &   1\\\\\n\t 0250368 & 2020 & 12 &  3 &   7\\\\\n\t 0250383 & 2020 & 12 &  1 &   4\\\\\n\t 0250400 & 2020 & 12 &  9 &  19\\\\\n\t 0250492 & 2020 & 12 &  2 &   4\\\\\n\t 0250654 & 2020 & 12 &  3 &   3\\\\\n\t 0250660 & 2020 & 12 &  3 &   4\\\\\n\t 0250681 & 2020 & 12 &  2 &   2\\\\\n\t 0260002 & 2020 & 12 & 13 &  68\\\\\n\\end{tabular}\n",
            "text/markdown": "\nA grouped_df: 4505 × 5\n\n| clientID &lt;chr&gt; | order_year &lt;dbl&gt; | order_mth &lt;dbl&gt; | Count &lt;int&gt; | TotalQuantityOrder &lt;dbl&gt; |\n|---|---|---|---|---|\n| 0040164 | 2017 |  6 |  6 |   768 |\n| 0220012 | 2017 |  7 |  3 |   894 |\n| 0020215 | 2017 |  8 |  9 |   500 |\n| 0170177 | 2017 |  9 |  5 |    24 |\n| 0240008 | 2017 |  9 |  2 |     2 |\n| 0020320 | 2017 | 10 |  5 |    64 |\n| 0020453 | 2017 | 10 |  3 |   400 |\n| 0040033 | 2017 | 10 | 15 |    24 |\n| 0040143 | 2017 | 10 |  1 |    26 |\n| 0090077 | 2017 | 10 |  4 |    20 |\n| 0220012 | 2017 | 10 |  2 |    38 |\n| 0250070 | 2017 | 10 |  4 |   277 |\n| 0250332 | 2017 | 10 | 10 |    45 |\n| 0260002 | 2017 | 10 |  7 | 13603 |\n| 0040033 | 2017 | 11 | 31 |    57 |\n| 0040054 | 2017 | 11 |  1 |     2 |\n| 0040084 | 2017 | 11 |  8 |   231 |\n| 0040117 | 2017 | 11 |  1 |     6 |\n| 0040143 | 2017 | 11 |  2 |   192 |\n| 0040164 | 2017 | 11 |  3 |   168 |\n| 0040172 | 2017 | 11 |  1 |    27 |\n| 0040244 | 2017 | 11 |  2 |    17 |\n| 0040478 | 2017 | 11 |  1 |   100 |\n| 0170025 | 2017 | 11 |  1 |     1 |\n| 0240001 | 2017 | 11 | 10 |    10 |\n| 0020048 | 2017 | 12 |  5 |    38 |\n| 0020131 | 2017 | 12 |  3 |    90 |\n| 0020320 | 2017 | 12 |  1 |     2 |\n| 0020520 | 2017 | 12 |  2 |     4 |\n| 0020523 | 2017 | 12 |  5 |     8 |\n| ⋮ | ⋮ | ⋮ | ⋮ | ⋮ |\n| 0170012 | 2020 | 12 |  1 |   1 |\n| 0170017 | 2020 | 12 |  3 |   7 |\n| 0170019 | 2020 | 12 |  7 |  18 |\n| 0170088 | 2020 | 12 |  4 |   9 |\n| 0170125 | 2020 | 12 |  1 |   1 |\n| 0170180 | 2020 | 12 |  1 |   1 |\n| 0220068 | 2020 | 12 |  2 |   4 |\n| 0220148 | 2020 | 12 |  1 |   1 |\n| 0230002 | 2020 | 12 |  1 |   3 |\n| 0240001 | 2020 | 12 | 21 | 184 |\n| 0240002 | 2020 | 12 | 30 | 128 |\n| 0240003 | 2020 | 12 | 18 |  68 |\n| 0240007 | 2020 | 12 |  5 |   6 |\n| 0240008 | 2020 | 12 | 11 |  24 |\n| 0240011 | 2020 | 12 |  2 |   2 |\n| 0250050 | 2020 | 12 | 17 | 167 |\n| 0250054 | 2020 | 12 |  6 |  19 |\n| 0250062 | 2020 | 12 |  2 |   5 |\n| 0250102 | 2020 | 12 |  2 |   8 |\n| 0250170 | 2020 | 12 |  1 |   8 |\n| 0250212 | 2020 | 12 |  1 |   4 |\n| 0250308 | 2020 | 12 |  1 |   1 |\n| 0250368 | 2020 | 12 |  3 |   7 |\n| 0250383 | 2020 | 12 |  1 |   4 |\n| 0250400 | 2020 | 12 |  9 |  19 |\n| 0250492 | 2020 | 12 |  2 |   4 |\n| 0250654 | 2020 | 12 |  3 |   3 |\n| 0250660 | 2020 | 12 |  3 |   4 |\n| 0250681 | 2020 | 12 |  2 |   2 |\n| 0260002 | 2020 | 12 | 13 |  68 |\n\n",
            "text/html": [
              "<table class=\"dataframe\">\n",
              "<caption>A grouped_df: 4505 × 5</caption>\n",
              "<thead>\n",
              "\t<tr><th scope=col>clientID</th><th scope=col>order_year</th><th scope=col>order_mth</th><th scope=col>Count</th><th scope=col>TotalQuantityOrder</th></tr>\n",
              "\t<tr><th scope=col>&lt;chr&gt;</th><th scope=col>&lt;dbl&gt;</th><th scope=col>&lt;dbl&gt;</th><th scope=col>&lt;int&gt;</th><th scope=col>&lt;dbl&gt;</th></tr>\n",
              "</thead>\n",
              "<tbody>\n",
              "\t<tr><td>0040164</td><td>2017</td><td> 6</td><td> 6</td><td>  768</td></tr>\n",
              "\t<tr><td>0220012</td><td>2017</td><td> 7</td><td> 3</td><td>  894</td></tr>\n",
              "\t<tr><td>0020215</td><td>2017</td><td> 8</td><td> 9</td><td>  500</td></tr>\n",
              "\t<tr><td>0170177</td><td>2017</td><td> 9</td><td> 5</td><td>   24</td></tr>\n",
              "\t<tr><td>0240008</td><td>2017</td><td> 9</td><td> 2</td><td>    2</td></tr>\n",
              "\t<tr><td>0020320</td><td>2017</td><td>10</td><td> 5</td><td>   64</td></tr>\n",
              "\t<tr><td>0020453</td><td>2017</td><td>10</td><td> 3</td><td>  400</td></tr>\n",
              "\t<tr><td>0040033</td><td>2017</td><td>10</td><td>15</td><td>   24</td></tr>\n",
              "\t<tr><td>0040143</td><td>2017</td><td>10</td><td> 1</td><td>   26</td></tr>\n",
              "\t<tr><td>0090077</td><td>2017</td><td>10</td><td> 4</td><td>   20</td></tr>\n",
              "\t<tr><td>0220012</td><td>2017</td><td>10</td><td> 2</td><td>   38</td></tr>\n",
              "\t<tr><td>0250070</td><td>2017</td><td>10</td><td> 4</td><td>  277</td></tr>\n",
              "\t<tr><td>0250332</td><td>2017</td><td>10</td><td>10</td><td>   45</td></tr>\n",
              "\t<tr><td>0260002</td><td>2017</td><td>10</td><td> 7</td><td>13603</td></tr>\n",
              "\t<tr><td>0040033</td><td>2017</td><td>11</td><td>31</td><td>   57</td></tr>\n",
              "\t<tr><td>0040054</td><td>2017</td><td>11</td><td> 1</td><td>    2</td></tr>\n",
              "\t<tr><td>0040084</td><td>2017</td><td>11</td><td> 8</td><td>  231</td></tr>\n",
              "\t<tr><td>0040117</td><td>2017</td><td>11</td><td> 1</td><td>    6</td></tr>\n",
              "\t<tr><td>0040143</td><td>2017</td><td>11</td><td> 2</td><td>  192</td></tr>\n",
              "\t<tr><td>0040164</td><td>2017</td><td>11</td><td> 3</td><td>  168</td></tr>\n",
              "\t<tr><td>0040172</td><td>2017</td><td>11</td><td> 1</td><td>   27</td></tr>\n",
              "\t<tr><td>0040244</td><td>2017</td><td>11</td><td> 2</td><td>   17</td></tr>\n",
              "\t<tr><td>0040478</td><td>2017</td><td>11</td><td> 1</td><td>  100</td></tr>\n",
              "\t<tr><td>0170025</td><td>2017</td><td>11</td><td> 1</td><td>    1</td></tr>\n",
              "\t<tr><td>0240001</td><td>2017</td><td>11</td><td>10</td><td>   10</td></tr>\n",
              "\t<tr><td>0020048</td><td>2017</td><td>12</td><td> 5</td><td>   38</td></tr>\n",
              "\t<tr><td>0020131</td><td>2017</td><td>12</td><td> 3</td><td>   90</td></tr>\n",
              "\t<tr><td>0020320</td><td>2017</td><td>12</td><td> 1</td><td>    2</td></tr>\n",
              "\t<tr><td>0020520</td><td>2017</td><td>12</td><td> 2</td><td>    4</td></tr>\n",
              "\t<tr><td>0020523</td><td>2017</td><td>12</td><td> 5</td><td>    8</td></tr>\n",
              "\t<tr><td>⋮</td><td>⋮</td><td>⋮</td><td>⋮</td><td>⋮</td></tr>\n",
              "\t<tr><td>0170012</td><td>2020</td><td>12</td><td> 1</td><td>  1</td></tr>\n",
              "\t<tr><td>0170017</td><td>2020</td><td>12</td><td> 3</td><td>  7</td></tr>\n",
              "\t<tr><td>0170019</td><td>2020</td><td>12</td><td> 7</td><td> 18</td></tr>\n",
              "\t<tr><td>0170088</td><td>2020</td><td>12</td><td> 4</td><td>  9</td></tr>\n",
              "\t<tr><td>0170125</td><td>2020</td><td>12</td><td> 1</td><td>  1</td></tr>\n",
              "\t<tr><td>0170180</td><td>2020</td><td>12</td><td> 1</td><td>  1</td></tr>\n",
              "\t<tr><td>0220068</td><td>2020</td><td>12</td><td> 2</td><td>  4</td></tr>\n",
              "\t<tr><td>0220148</td><td>2020</td><td>12</td><td> 1</td><td>  1</td></tr>\n",
              "\t<tr><td>0230002</td><td>2020</td><td>12</td><td> 1</td><td>  3</td></tr>\n",
              "\t<tr><td>0240001</td><td>2020</td><td>12</td><td>21</td><td>184</td></tr>\n",
              "\t<tr><td>0240002</td><td>2020</td><td>12</td><td>30</td><td>128</td></tr>\n",
              "\t<tr><td>0240003</td><td>2020</td><td>12</td><td>18</td><td> 68</td></tr>\n",
              "\t<tr><td>0240007</td><td>2020</td><td>12</td><td> 5</td><td>  6</td></tr>\n",
              "\t<tr><td>0240008</td><td>2020</td><td>12</td><td>11</td><td> 24</td></tr>\n",
              "\t<tr><td>0240011</td><td>2020</td><td>12</td><td> 2</td><td>  2</td></tr>\n",
              "\t<tr><td>0250050</td><td>2020</td><td>12</td><td>17</td><td>167</td></tr>\n",
              "\t<tr><td>0250054</td><td>2020</td><td>12</td><td> 6</td><td> 19</td></tr>\n",
              "\t<tr><td>0250062</td><td>2020</td><td>12</td><td> 2</td><td>  5</td></tr>\n",
              "\t<tr><td>0250102</td><td>2020</td><td>12</td><td> 2</td><td>  8</td></tr>\n",
              "\t<tr><td>0250170</td><td>2020</td><td>12</td><td> 1</td><td>  8</td></tr>\n",
              "\t<tr><td>0250212</td><td>2020</td><td>12</td><td> 1</td><td>  4</td></tr>\n",
              "\t<tr><td>0250308</td><td>2020</td><td>12</td><td> 1</td><td>  1</td></tr>\n",
              "\t<tr><td>0250368</td><td>2020</td><td>12</td><td> 3</td><td>  7</td></tr>\n",
              "\t<tr><td>0250383</td><td>2020</td><td>12</td><td> 1</td><td>  4</td></tr>\n",
              "\t<tr><td>0250400</td><td>2020</td><td>12</td><td> 9</td><td> 19</td></tr>\n",
              "\t<tr><td>0250492</td><td>2020</td><td>12</td><td> 2</td><td>  4</td></tr>\n",
              "\t<tr><td>0250654</td><td>2020</td><td>12</td><td> 3</td><td>  3</td></tr>\n",
              "\t<tr><td>0250660</td><td>2020</td><td>12</td><td> 3</td><td>  4</td></tr>\n",
              "\t<tr><td>0250681</td><td>2020</td><td>12</td><td> 2</td><td>  2</td></tr>\n",
              "\t<tr><td>0260002</td><td>2020</td><td>12</td><td>13</td><td> 68</td></tr>\n",
              "</tbody>\n",
              "</table>\n"
            ]
          },
          "metadata": {
            "tags": []
          }
        }
      ]
    }
  ]
}